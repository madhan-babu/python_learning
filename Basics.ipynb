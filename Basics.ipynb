{
 "cells": [
  {
   "cell_type": "markdown",
   "metadata": {},
   "source": [
    "# <font color=\"Green\">Basics</font>"
   ]
  },
  {
   "cell_type": "markdown",
   "metadata": {},
   "source": [
    "Before we dwelve into the features of Python we should understand some basics. Don't worry if the constructs used are not clear, we will cover them in separate sections."
   ]
  },
  {
   "cell_type": "markdown",
   "metadata": {},
   "source": [
    "## <font color=\"blue\">Variables</font>"
   ]
  },
  {
   "cell_type": "markdown",
   "metadata": {},
   "source": [
    "A variable represents a name given to a particular value. Typically we define a variable and set its value."
   ]
  },
  {
   "cell_type": "code",
   "execution_count": 2,
   "metadata": {},
   "outputs": [],
   "source": [
    "year = 2019\n",
    "month = 11\n",
    "day = 17"
   ]
  },
  {
   "cell_type": "markdown",
   "metadata": {},
   "source": [
    "This process of setting value to a variable is called as **Assignment**."
   ]
  },
  {
   "cell_type": "markdown",
   "metadata": {},
   "source": [
    "Once a variable is defined it can be used in other expressions."
   ]
  },
  {
   "cell_type": "code",
   "execution_count": 4,
   "metadata": {},
   "outputs": [],
   "source": [
    "lastYear = year - 1"
   ]
  },
  {
   "cell_type": "markdown",
   "metadata": {},
   "source": [
    "During execution of the above expression, Python would use the current value that **year** is pointing to (which is 2019). So the end result is 2018 and it is now assigned to the variable **lastYear**."
   ]
  },
  {
   "cell_type": "markdown",
   "metadata": {},
   "source": [
    "### Variable Name"
   ]
  },
  {
   "cell_type": "markdown",
   "metadata": {},
   "source": [
    "Remeber the following rules when naming a variable,\n",
    "\n",
    "- variable names can only start with an alphabet or an underscore\n",
    "- variable names can only include alphabets, numbers and underscore\n",
    "- variable names cannot be the same as reserved keywords\n",
    "- variable names are not case sensitive\n",
    "\n",
    "Valid variable names,\n",
    "\n",
    "<font color=\"green\">**age**</font><br>\n",
    "<font color=\"green\">**AGE**</font><br>\n",
    "<font color=\"green\">**_age**</font><br>\n",
    "<font color=\"green\">**_age10**</font><br>\n",
    "<font color=\"green\">**\\_do\\_something**</font><br>\n",
    "\n",
    "Invalid variable names,\n",
    "\n",
    "<font color=\"red\">**10age**</font> - starts with a number<br>\n",
    "<font color=\"red\">**age%**</font> - includes special character<br>\n",
    "<font color=\"red\">**else**</font> - reserver keyword"
   ]
  },
  {
   "cell_type": "markdown",
   "metadata": {},
   "source": [
    "### Data Type"
   ]
  },
  {
   "cell_type": "markdown",
   "metadata": {},
   "source": [
    "Statically typed programming languages require the type of data to be defined when declaring them. For example in **C\\#** we define a variables as,\n",
    "\n",
    "<div class=\"alert alert-block alert-warning\">\n",
    "    <font color=\"blue\">int year = 2019;</font>\n",
    "</div>\n",
    "\n",
    "\n",
    "The above line says that the variable **year** can only point to an integer. Setting a text to it would result in error.\n",
    "\n",
    "However Python is dynamically typed and so there is no need to indicate the actual type of the variable. It is also possible to set a completely different type of value to the same variable."
   ]
  },
  {
   "cell_type": "code",
   "execution_count": 6,
   "metadata": {},
   "outputs": [],
   "source": [
    "x = 10\n",
    "x = 'Tom'"
   ]
  },
  {
   "cell_type": "markdown",
   "metadata": {},
   "source": [
    "## <font color=\"blue\">Case Insensitive</font>"
   ]
  },
  {
   "cell_type": "markdown",
   "metadata": {},
   "source": [
    "Python is not case sensitive. So the following lines define 2 different variables,"
   ]
  },
  {
   "cell_type": "code",
   "execution_count": 10,
   "metadata": {},
   "outputs": [],
   "source": [
    "age = 20\n",
    "AGE = 30"
   ]
  },
  {
   "cell_type": "markdown",
   "metadata": {},
   "source": [
    "Remember the same rule applies for all identifiers defined including names of functions, classes etc."
   ]
  },
  {
   "cell_type": "markdown",
   "metadata": {},
   "source": [
    "## <font color=\"blue\">Line Separator</font>"
   ]
  },
  {
   "cell_type": "markdown",
   "metadata": {},
   "source": [
    "Some programming languages use some character to indicate end of each line. For example **C#** uses a semi-colon to denote end of a line,\n",
    "\n",
    "<div class=\"alert alert-block alert-warning\">\n",
    "    <font color=\"blue\">int day=10;<br>\n",
    "    int month=12;</font>\n",
    "</div>\n",
    "\n",
    "With this it is possible to define both these expressions in the same line as well.\n",
    "\n",
    "<div class=\"alert alert-block alert-warning\">\n",
    "    <font color=\"blue\">int day=10; \n",
    "    int month=12;</font>\n",
    "</div>"
   ]
  },
  {
   "cell_type": "markdown",
   "metadata": {},
   "source": [
    "Python only support a line break. So each expression should be in a different line,"
   ]
  },
  {
   "cell_type": "code",
   "execution_count": 7,
   "metadata": {},
   "outputs": [],
   "source": [
    "day = 10\n",
    "month = 12"
   ]
  },
  {
   "cell_type": "markdown",
   "metadata": {},
   "source": [
    "## <font color=\"blue\">Blocks</font>"
   ]
  },
  {
   "cell_type": "markdown",
   "metadata": {},
   "source": [
    "Same as line separators some programming languages use characters to define a block of code. For example **C#** uses curly braces,\n",
    "\n",
    "<div class=\"alert alert-block alert-warning\">\n",
    "    <font color=\"blue\">if temperature > 25 {<br>\n",
    "        &emsp;condition = \"hot\";<br>\n",
    "        &emsp;switch_aircon();<br>\n",
    "    }<br>\n",
    "    else {<br>\n",
    "        &emsp;condition = \"moderate\";<br>\n",
    "        &emsp;shutdown_aircon();<br>\n",
    "    }\n",
    "    </font>\n",
    "</div>"
   ]
  },
  {
   "cell_type": "markdown",
   "metadata": {},
   "source": [
    "In Python however we use the following rules,\n",
    "\n",
    "- a colon **:** denotes start of a block\n",
    "- all lines inside a block are aligned by 4 spaces or a tab to the right\n",
    "- the block ends when there is a line that is at the same position as start of the block\n",
    "\n",
    "The same example would be written as,\n",
    "\n",
    "<div class=\"alert alert-block alert-warning\">\n",
    "    <font color=\"blue\">if temperature > 25:<br>\n",
    "        &emsp;condition = \"hot\"<br>\n",
    "        &emsp;switch_aircon()<br>\n",
    "    else:<br>\n",
    "        &emsp;condition = \"moderate\"<br>\n",
    "        &emsp;shutdown_aircon()<br>\n",
    "    </font>\n",
    "</div>"
   ]
  },
  {
   "cell_type": "markdown",
   "metadata": {},
   "source": [
    "<img src=\"Blocks.png\"/>"
   ]
  },
  {
   "cell_type": "markdown",
   "metadata": {},
   "source": [
    "## <font color=\"blue\">print</font>"
   ]
  },
  {
   "cell_type": "markdown",
   "metadata": {},
   "source": [
    "**print** is a function that you will come across many times in this tutorial. This function just prints the given value to the standard output."
   ]
  },
  {
   "cell_type": "code",
   "execution_count": 12,
   "metadata": {},
   "outputs": [
    {
     "name": "stdout",
     "output_type": "stream",
     "text": [
      "10\n"
     ]
    }
   ],
   "source": [
    "print(10)"
   ]
  },
  {
   "cell_type": "code",
   "execution_count": 13,
   "metadata": {},
   "outputs": [
    {
     "name": "stdout",
     "output_type": "stream",
     "text": [
      "some text\n"
     ]
    }
   ],
   "source": [
    "print(\"some text\")"
   ]
  },
  {
   "cell_type": "code",
   "execution_count": 14,
   "metadata": {},
   "outputs": [
    {
     "name": "stdout",
     "output_type": "stream",
     "text": [
      "100.53\n"
     ]
    }
   ],
   "source": [
    "total = 100.53\n",
    "print(total)"
   ]
  },
  {
   "cell_type": "markdown",
   "metadata": {},
   "source": [
    "We can also print multiple values in one go,"
   ]
  },
  {
   "cell_type": "code",
   "execution_count": 15,
   "metadata": {},
   "outputs": [
    {
     "name": "stdout",
     "output_type": "stream",
     "text": [
      "12 10 2019\n"
     ]
    }
   ],
   "source": [
    "day = 12\n",
    "month = 10\n",
    "year = 2019\n",
    "print(day, month, year)"
   ]
  },
  {
   "cell_type": "markdown",
   "metadata": {},
   "source": [
    "By default **print** uses a space to separate the values. We can customize this by passing a separator,"
   ]
  },
  {
   "cell_type": "code",
   "execution_count": 16,
   "metadata": {},
   "outputs": [
    {
     "name": "stdout",
     "output_type": "stream",
     "text": [
      "12,10,2019\n"
     ]
    }
   ],
   "source": [
    "print(day, month, year, sep=',')"
   ]
  },
  {
   "cell_type": "markdown",
   "metadata": {},
   "source": [
    "We can customize the end of our print by adding some characters,"
   ]
  },
  {
   "cell_type": "code",
   "execution_count": 17,
   "metadata": {},
   "outputs": [
    {
     "name": "stdout",
     "output_type": "stream",
     "text": [
      "12,10,2019:"
     ]
    }
   ],
   "source": [
    "print(day, month, year, sep=',', end=':')"
   ]
  }
 ],
 "metadata": {
  "kernelspec": {
   "display_name": "Python 3",
   "language": "python",
   "name": "python3"
  },
  "language_info": {
   "codemirror_mode": {
    "name": "ipython",
    "version": 3
   },
   "file_extension": ".py",
   "mimetype": "text/x-python",
   "name": "python",
   "nbconvert_exporter": "python",
   "pygments_lexer": "ipython3",
   "version": "3.7.3"
  }
 },
 "nbformat": 4,
 "nbformat_minor": 2
}
