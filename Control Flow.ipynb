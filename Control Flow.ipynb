{
 "cells": [
  {
   "cell_type": "markdown",
   "metadata": {
    "slideshow": {
     "slide_type": "slide"
    }
   },
   "source": [
    "# <font color=\"Green\">Control Flow</font>"
   ]
  },
  {
   "cell_type": "markdown",
   "metadata": {
    "slideshow": {
     "slide_type": "subslide"
    }
   },
   "source": [
    "As the name suggest control flow constructs alter the flow of control during execution. In this section we will cover the following constructs,\n",
    "\n",
    "- if-elif-else\n",
    "- while\n",
    "- for\n",
    "- try\n",
    "- with"
   ]
  },
  {
   "cell_type": "markdown",
   "metadata": {
    "slideshow": {
     "slide_type": "subslide"
    }
   },
   "source": [
    "## <font color=\"blue\">if-elif-else</font>"
   ]
  },
  {
   "cell_type": "markdown",
   "metadata": {
    "slideshow": {
     "slide_type": "subslide"
    }
   },
   "source": [
    "**if** contsruct is one of the most commonly used. This takes the form,\n",
    "\n",
    "\n",
    "    \n",
    "<div class=\"alert alert-block alert-info\">\n",
    "    \n",
    "**if** expression1**:**\n",
    "\n",
    "    [Statement Block1]\n",
    "\n",
    "**elif** expression2**:**\n",
    "\n",
    "    [Statement Block 2]\n",
    "\n",
    "**else:**\n",
    "\n",
    "    [Statement Block 3]\n",
    "    \n",
    "[statement block 4]\n",
    "\n",
    "</div>"
   ]
  },
  {
   "cell_type": "markdown",
   "metadata": {
    "slideshow": {
     "slide_type": "subslide"
    }
   },
   "source": [
    "The expression is a truth condition and the result of the condition decides where the control flows.  In case **expression1** is True then the statement block 1 is exeucted and the control flows to the end of the contruct and continues with statement block 4. If **expression1** is False then the control flows to the elif statement and evaluates **expression2**. If **expression2** is True then statement block 2 is executed and continues to statement block 4. But if **expression2** is False then the control flows the **else** and executes the statement block 3."
   ]
  },
  {
   "cell_type": "markdown",
   "metadata": {
    "slideshow": {
     "slide_type": "subslide"
    }
   },
   "source": [
    "The following flow chart shows this visually,"
   ]
  },
  {
   "cell_type": "markdown",
   "metadata": {
    "slideshow": {
     "slide_type": "subslide"
    }
   },
   "source": [
    "<img src='Images/if-elif-else.png'/>"
   ]
  },
  {
   "cell_type": "markdown",
   "metadata": {
    "slideshow": {
     "slide_type": "subslide"
    }
   },
   "source": [
    "We can use the following type of expressions,\n",
    "\n",
    "- boolean value\n",
    "- comparisons\n",
    "- non null value"
   ]
  },
  {
   "cell_type": "code",
   "execution_count": 1,
   "metadata": {
    "slideshow": {
     "slide_type": "fragment"
    }
   },
   "outputs": [
    {
     "name": "stdout",
     "output_type": "stream",
     "text": [
      "This is if block\n"
     ]
    }
   ],
   "source": [
    "expr = True\n",
    "if expr:\n",
    "    print('This is if block')\n",
    "else:\n",
    "    print('This is else block')"
   ]
  },
  {
   "cell_type": "code",
   "execution_count": 2,
   "metadata": {
    "slideshow": {
     "slide_type": "fragment"
    }
   },
   "outputs": [
    {
     "name": "stdout",
     "output_type": "stream",
     "text": [
      "This is else block\n"
     ]
    }
   ],
   "source": [
    "x = 10\n",
    "y = 20\n",
    "if (x - y) == 1:\n",
    "    print('This is if block')\n",
    "else:\n",
    "    print('This is else block')"
   ]
  },
  {
   "cell_type": "code",
   "execution_count": 3,
   "metadata": {
    "slideshow": {
     "slide_type": "fragment"
    }
   },
   "outputs": [
    {
     "name": "stdout",
     "output_type": "stream",
     "text": [
      "This is if block\n"
     ]
    }
   ],
   "source": [
    "name = 'python'\n",
    "if name:\n",
    "    print('This is if block')\n",
    "else:\n",
    "    print('This is else block')"
   ]
  },
  {
   "cell_type": "markdown",
   "metadata": {
    "slideshow": {
     "slide_type": "fragment"
    }
   },
   "source": [
    "<div class=\"alert alert-block alert-success\">\n",
    "Please note that empty string results in False\n",
    "</div>"
   ]
  },
  {
   "cell_type": "markdown",
   "metadata": {
    "slideshow": {
     "slide_type": "subslide"
    }
   },
   "source": [
    "Both **elif** and **else** are completely optional."
   ]
  },
  {
   "cell_type": "code",
   "execution_count": 4,
   "metadata": {
    "slideshow": {
     "slide_type": "fragment"
    }
   },
   "outputs": [
    {
     "name": "stdout",
     "output_type": "stream",
     "text": [
      "Even number\n"
     ]
    }
   ],
   "source": [
    "a = 124\n",
    "if a % 2 == 0:\n",
    "    print('Even number')"
   ]
  },
  {
   "cell_type": "markdown",
   "metadata": {
    "slideshow": {
     "slide_type": "fragment"
    }
   },
   "source": [
    "We can include any number of **elif** block."
   ]
  },
  {
   "cell_type": "code",
   "execution_count": 5,
   "metadata": {
    "slideshow": {
     "slide_type": "fragment"
    }
   },
   "outputs": [
    {
     "name": "stdout",
     "output_type": "stream",
     "text": [
      "Millenial or Gen Y\n"
     ]
    }
   ],
   "source": [
    "yob = 1992\n",
    "if yob > 2013:\n",
    "    print('Gen Alpha')\n",
    "elif yob > 1995:\n",
    "    print('Gen Z')\n",
    "elif yob > 1980:\n",
    "    print('Millenial or Gen Y')\n",
    "elif yob > 1965:\n",
    "    print('Gen X')"
   ]
  },
  {
   "cell_type": "markdown",
   "metadata": {
    "slideshow": {
     "slide_type": "subslide"
    }
   },
   "source": [
    "We can combine multiple expressions together using **and** and **or**.\n",
    "\n",
    "All expressions used in **and** should evaluate to True for the entire expression to be True.\n",
    "Any one of the expression in **or** should evaluate to True for the entire expression to be True."
   ]
  },
  {
   "cell_type": "code",
   "execution_count": 6,
   "metadata": {
    "slideshow": {
     "slide_type": "fragment"
    }
   },
   "outputs": [
    {
     "name": "stdout",
     "output_type": "stream",
     "text": [
      "Gen X\n"
     ]
    }
   ],
   "source": [
    "yob = 1972\n",
    "if yob <= 1965:\n",
    "    print('Older generation')\n",
    "if yob > 1965 and yob <= 1980:\n",
    "    print('Gen X')\n",
    "elif yob > 1980 and yob <= 1995:\n",
    "    print('Millenial or Gen Y')"
   ]
  },
  {
   "cell_type": "code",
   "execution_count": 7,
   "metadata": {
    "slideshow": {
     "slide_type": "fragment"
    }
   },
   "outputs": [
    {
     "name": "stdout",
     "output_type": "stream",
     "text": [
      "My favorite color\n"
     ]
    }
   ],
   "source": [
    "color = 'blue'\n",
    "if color == 'red' or color == 'blue':\n",
    "    print('My favorite color')"
   ]
  },
  {
   "cell_type": "markdown",
   "metadata": {},
   "source": [
    "## <font color=\"blue\">while</font>"
   ]
  },
  {
   "cell_type": "markdown",
   "metadata": {},
   "source": [
    "**while** statement is used to execute a block of statement multiple times as long as the expression is True.\n",
    "\n",
    "<div class=\"alert alert-block alert-info\">\n",
    "\n",
    "**while** expression:\n",
    "    \n",
    "    [Statement Block 1]\n",
    "    \n",
    "[Statement Block 2]\n",
    "\n",
    "</div>"
   ]
  },
  {
   "cell_type": "markdown",
   "metadata": {},
   "source": [
    "<img src='Images/while.png'/>"
   ]
  },
  {
   "cell_type": "markdown",
   "metadata": {},
   "source": [
    "If **expression** is True then Statement Block 1 will be executed. Then the control will return to evaluate the expression and then continue with Statement Block 1 again. When **expression** evaluates to False then the control will exit out of **while** and continue with Statement Block 2."
   ]
  },
  {
   "cell_type": "code",
   "execution_count": 8,
   "metadata": {},
   "outputs": [
    {
     "name": "stdout",
     "output_type": "stream",
     "text": [
      "10\n",
      "9\n",
      "8\n",
      "7\n",
      "6\n",
      "5\n",
      "4\n",
      "3\n",
      "2\n",
      "1\n"
     ]
    }
   ],
   "source": [
    "x = 10\n",
    "while x <= 10 and x > 0:\n",
    "    print(x)\n",
    "    x = x - 1"
   ]
  },
  {
   "cell_type": "markdown",
   "metadata": {},
   "source": [
    "## <font color=\"blue\">for</font>"
   ]
  },
  {
   "cell_type": "markdown",
   "metadata": {},
   "source": [
    "**for** statement is used to iterate over a sequence of items.\n",
    "\n",
    "<div class=\"alert alert-block alert-info\">\n",
    "\n",
    "**for** item **in** sequence:\n",
    "    \n",
    "    [Statement Block 1]\n",
    "\n",
    "**else**:\n",
    "\n",
    "    [Statement Block 2]\n",
    "\n",
    "[Statement Block 3]\n",
    "\n",
    "</div>"
   ]
  },
  {
   "cell_type": "markdown",
   "metadata": {},
   "source": [
    "<img src=\"Images/for-else.png\"/>"
   ]
  },
  {
   "cell_type": "markdown",
   "metadata": {},
   "source": [
    "For each item in the sequence statement block 1 will be executed. Once the sequence is exhausted the control flows to statement block 2."
   ]
  },
  {
   "cell_type": "code",
   "execution_count": 9,
   "metadata": {},
   "outputs": [
    {
     "name": "stdout",
     "output_type": "stream",
     "text": [
      "P\n",
      "Y\n",
      "T\n",
      "H\n",
      "O\n",
      "N\n"
     ]
    }
   ],
   "source": [
    "name = 'PYTHON'\n",
    "for char in name:\n",
    "    print(char)"
   ]
  },
  {
   "cell_type": "markdown",
   "metadata": {},
   "source": [
    "We can also include an **else** statement which will be executed once the sequence is exhausted."
   ]
  },
  {
   "cell_type": "code",
   "execution_count": 10,
   "metadata": {},
   "outputs": [
    {
     "name": "stdout",
     "output_type": "stream",
     "text": [
      "P\n",
      "Y\n",
      "T\n",
      "H\n",
      "O\n",
      "N\n",
      "Done\n"
     ]
    }
   ],
   "source": [
    "name = 'PYTHON'\n",
    "for char in name:\n",
    "    print(char)\n",
    "else:\n",
    "    print('Done')"
   ]
  },
  {
   "cell_type": "markdown",
   "metadata": {},
   "source": [
    "## <font color=\"blue\">try - except - finally</font>"
   ]
  },
  {
   "cell_type": "markdown",
   "metadata": {},
   "source": [
    "During execution of a program there could be exceptions which represent error cases. Not handling these exceptions will result in unexpected termination of your program. We will cover exceptions later but for now lets look at how to handle exceptions if they occur."
   ]
  },
  {
   "cell_type": "markdown",
   "metadata": {},
   "source": [
    "<div class=\"alert alert-block alert-info\">\n",
    "\n",
    "**try**:\n",
    "    \n",
    "    [Statement Block 1]\n",
    "\n",
    "**except**:\n",
    "    \n",
    "    [Statement Block 2]\n",
    "\n",
    "**finally**:\n",
    "\n",
    "    [Statement Block 3]\n",
    "\n",
    "[Statement Block 4]\n",
    "\n",
    "</div>"
   ]
  },
  {
   "cell_type": "markdown",
   "metadata": {},
   "source": [
    "Control flows thru statement block 1. If during this there is an exception then the control immediately jumps to statement block 2. After completing statement block 1 or statement block 2 the control jumps to statement block 3."
   ]
  },
  {
   "cell_type": "markdown",
   "metadata": {},
   "source": [
    "<img src=\"Images/try-except-finally.png\"/>"
   ]
  },
  {
   "cell_type": "code",
   "execution_count": 11,
   "metadata": {},
   "outputs": [
    {
     "name": "stdout",
     "output_type": "stream",
     "text": [
      "Something wrong\n",
      "Value of c:  0\n"
     ]
    }
   ],
   "source": [
    "try:\n",
    "    a = 1\n",
    "    b = 0\n",
    "    c = a / b\n",
    "except:\n",
    "    print('Something wrong')\n",
    "finally:\n",
    "    c = 0\n",
    "print('Value of c: ', c)"
   ]
  }
 ],
 "metadata": {
  "kernelspec": {
   "display_name": "Python 3",
   "language": "python",
   "name": "python3"
  },
  "language_info": {
   "codemirror_mode": {
    "name": "ipython",
    "version": 3
   },
   "file_extension": ".py",
   "mimetype": "text/x-python",
   "name": "python",
   "nbconvert_exporter": "python",
   "pygments_lexer": "ipython3",
   "version": "3.7.3"
  }
 },
 "nbformat": 4,
 "nbformat_minor": 2
}
