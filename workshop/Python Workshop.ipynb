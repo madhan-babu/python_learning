{
 "cells": [
  {
   "cell_type": "markdown",
   "metadata": {},
   "source": [
    "# <font color='Green'>Python Workshop - Build a Bank</font>"
   ]
  },
  {
   "cell_type": "markdown",
   "metadata": {},
   "source": [
    "## <font color='blue'>Variables</font>"
   ]
  },
  {
   "cell_type": "markdown",
   "metadata": {},
   "source": [
    "Variables are names given to a memory address. A value such as 10, 30 etc are stored in memory at the next free memory location. The memory addresses are represented in hexa-decimal like \"0x1d3e36b3390\", \"0x1d3e36b36d8\" etc. As you can see these addresses are hard to remember. Think of it like phone number that each person as. Just like how it is hard to remember anyone by their number it is also very hard to use the hexa decimal addresses. So we give these addresses a name that refers to the address. "
   ]
  },
  {
   "cell_type": "code",
   "execution_count": 119,
   "metadata": {},
   "outputs": [],
   "source": [
    "age = 10"
   ]
  },
  {
   "cell_type": "markdown",
   "metadata": {},
   "source": [
    "The above line stores the value 10 in the next available location in memory."
   ]
  },
  {
   "cell_type": "markdown",
   "metadata": {},
   "source": [
    "<img src=\"Memory-1.jpg\" width=300/>"
   ]
  },
  {
   "cell_type": "markdown",
   "metadata": {},
   "source": [
    "**age** now is an alias to the address \"0x1231ab90\"."
   ]
  },
  {
   "cell_type": "code",
   "execution_count": 120,
   "metadata": {},
   "outputs": [
    {
     "data": {
      "text/plain": [
       "10"
      ]
     },
     "execution_count": 120,
     "metadata": {},
     "output_type": "execute_result"
    }
   ],
   "source": [
    "age"
   ]
  },
  {
   "cell_type": "markdown",
   "metadata": {},
   "source": [
    "When we use the variable **age** it will get the value from the memory address, which is <font color='red'>10</font>.\n",
    "\n",
    "We can define as many variables as needed to store values."
   ]
  },
  {
   "cell_type": "code",
   "execution_count": 121,
   "metadata": {},
   "outputs": [],
   "source": [
    "age1 = 17"
   ]
  },
  {
   "cell_type": "markdown",
   "metadata": {},
   "source": [
    "Just like before <font color='red'>17</font> will be stored in the next available memory slot and the variable **age1** will be an alias to the memory address.  \n",
    "\n",
    "We can perform some operations with the variables like adding, subtracting etc."
   ]
  },
  {
   "cell_type": "code",
   "execution_count": 122,
   "metadata": {},
   "outputs": [
    {
     "data": {
      "text/plain": [
       "27"
      ]
     },
     "execution_count": 122,
     "metadata": {},
     "output_type": "execute_result"
    }
   ],
   "source": [
    "age + age1"
   ]
  },
  {
   "cell_type": "markdown",
   "metadata": {},
   "source": [
    "This above line fetches the values from the mapped memory addresses, adds them together and then returns the output.\n",
    "\n",
    "But note that the output is temporary in this case because we didn't store it in memory. We can store it and assigns it to another variable."
   ]
  },
  {
   "cell_type": "code",
   "execution_count": 123,
   "metadata": {},
   "outputs": [],
   "source": [
    "age2 = age + age1"
   ]
  },
  {
   "cell_type": "code",
   "execution_count": 124,
   "metadata": {},
   "outputs": [
    {
     "data": {
      "text/plain": [
       "27"
      ]
     },
     "execution_count": 124,
     "metadata": {},
     "output_type": "execute_result"
    }
   ],
   "source": [
    "age2"
   ]
  },
  {
   "cell_type": "markdown",
   "metadata": {},
   "source": [
    "### Variable name conditions"
   ]
  },
  {
   "cell_type": "markdown",
   "metadata": {},
   "source": [
    "When defining variables names they can be,\n",
    "\n",
    "* can be a combination alphabets and numbers, *amount123*, ** etc\n",
    "* can start with an alphabet or an underscore, *_balance*, *_age* etc"
   ]
  },
  {
   "cell_type": "code",
   "execution_count": 125,
   "metadata": {},
   "outputs": [],
   "source": [
    "amount123 = 10\n",
    "a123 = 25\n",
    "_age = 40\n",
    "i = 10\n",
    "j =20"
   ]
  },
  {
   "cell_type": "markdown",
   "metadata": {},
   "source": [
    "## <font color='blue'>Data Types</font>"
   ]
  },
  {
   "cell_type": "markdown",
   "metadata": {},
   "source": [
    "Each value stored is of a specific type. In the above examples the values are of **integer** type. \n",
    "\n",
    "We can also assign a text or string values to a variable. String values are enclosed either in a single or double quotes."
   ]
  },
  {
   "cell_type": "code",
   "execution_count": 126,
   "metadata": {},
   "outputs": [],
   "source": [
    "name = 'Tom' # text or string"
   ]
  },
  {
   "cell_type": "code",
   "execution_count": 127,
   "metadata": {},
   "outputs": [],
   "source": [
    "name = \"Tom\" # notice double quotes"
   ]
  },
  {
   "cell_type": "markdown",
   "metadata": {},
   "source": [
    "<img src=\"Memory-2.jpg\" width=300/>"
   ]
  },
  {
   "cell_type": "markdown",
   "metadata": {},
   "source": [
    "## <font color='Blue'>Let's build a Bank step-by-step</font>"
   ]
  },
  {
   "cell_type": "markdown",
   "metadata": {},
   "source": [
    "Now that we know how to store values in memory and assign them to variables, let's build on this foundation and try to simulate a bank.\n",
    "\n",
    "One of the important function of a bank is to allow customers to operate an account. When we think of an account the common attributes that we can think of are,\n",
    "\n",
    "* Account Number\n",
    "* Customer Name\n",
    "* Current Balance"
   ]
  },
  {
   "cell_type": "markdown",
   "metadata": {},
   "source": [
    "We can create new variables to store these attributes like the below,"
   ]
  },
  {
   "cell_type": "code",
   "execution_count": 128,
   "metadata": {},
   "outputs": [],
   "source": [
    "accNumber = 101\n",
    "name = 'Jerry'\n",
    "balance = 0"
   ]
  },
  {
   "cell_type": "markdown",
   "metadata": {},
   "source": [
    "Operations that customers normally do with an account are,\n",
    "\n",
    "* Deposit money -> increases the account balance\n",
    "* Withdraw money -> decreases the account balance\n",
    "\n",
    "Let's perform some deposits and withdrawals now using basic operations (add and subtract)."
   ]
  },
  {
   "cell_type": "code",
   "execution_count": 129,
   "metadata": {},
   "outputs": [],
   "source": [
    "balance = balance + 100"
   ]
  },
  {
   "cell_type": "code",
   "execution_count": 130,
   "metadata": {},
   "outputs": [
    {
     "data": {
      "text/plain": [
       "100"
      ]
     },
     "execution_count": 130,
     "metadata": {},
     "output_type": "execute_result"
    }
   ],
   "source": [
    "balance"
   ]
  },
  {
   "cell_type": "code",
   "execution_count": 131,
   "metadata": {},
   "outputs": [],
   "source": [
    "balance = balance - 50"
   ]
  },
  {
   "cell_type": "code",
   "execution_count": 132,
   "metadata": {},
   "outputs": [
    {
     "data": {
      "text/plain": [
       "50"
      ]
     },
     "execution_count": 132,
     "metadata": {},
     "output_type": "execute_result"
    }
   ],
   "source": [
    "balance"
   ]
  },
  {
   "cell_type": "code",
   "execution_count": 133,
   "metadata": {},
   "outputs": [
    {
     "data": {
      "text/plain": [
       "1000050"
      ]
     },
     "execution_count": 133,
     "metadata": {},
     "output_type": "execute_result"
    }
   ],
   "source": [
    "balance = balance + 1000000\n",
    "balance"
   ]
  },
  {
   "cell_type": "code",
   "execution_count": 134,
   "metadata": {},
   "outputs": [],
   "source": [
    "balance = balance - 50"
   ]
  },
  {
   "cell_type": "code",
   "execution_count": 135,
   "metadata": {},
   "outputs": [
    {
     "data": {
      "text/plain": [
       "1000000"
      ]
     },
     "execution_count": 135,
     "metadata": {},
     "output_type": "execute_result"
    }
   ],
   "source": [
    "balance"
   ]
  },
  {
   "cell_type": "markdown",
   "metadata": {},
   "source": [
    "### Interest Payments"
   ]
  },
  {
   "cell_type": "markdown",
   "metadata": {},
   "source": [
    "There are two reasons why we might want to deposit our money in a bank,\n",
    "\n",
    "1. It is much safer and allows us to withdraw whereever and whenever needed without all the hassle of carrying it around\n",
    "2. Money earns money\n",
    "\n",
    "The second point needs some more explanation. When we deposit money the bank then lends it to other customers who are in need of borrowing money. Think of another customer who has a business idea but not the money to start it. So he/she might go to a bank and ask for money to invest. The bank will lend the required money (after necessary checks). The borrower would then need to pay some interest frequently and after a period of time they will also need to pay the entire amount they borrowed.\n",
    "\n",
    "This interest paid by the borrower is what the bank charges for taking the risk of lending money. Let's say the bank charged 2% interest rate. So every year the borrower would pay 2% of the amount borrowed as interest. If the initial amount is 10000 then every year they would pay 200 as interest.\n",
    "\n",
    "Now you might question why am I not getting anything in return for the money that I lent to the bank (thru deposit). You are right, as the depositor of money you are entitled to some interest as well. Typically this will be lower than what the bank charges borrower. In our example the bank might pay you 1% interest for the deposit you made.\n",
    "\n",
    "Again you might question why is that I get only 1%. The difference is what the bank uses to enable this entire business. \n",
    "\n",
    "In this entire example we are talking about simple interest which can be calculated using this formula,\n",
    "\n",
    "Interest = $(Principal * Time * Interest Rate) / 100$"
   ]
  },
  {
   "cell_type": "markdown",
   "metadata": {},
   "source": [
    "With some deposits that we already made, let's use this formula to calculate the interest that we will earn after one year."
   ]
  },
  {
   "cell_type": "code",
   "execution_count": 136,
   "metadata": {},
   "outputs": [
    {
     "data": {
      "text/plain": [
       "10000.0"
      ]
     },
     "execution_count": 136,
     "metadata": {},
     "output_type": "execute_result"
    }
   ],
   "source": [
    "# pnr / 100\n",
    "interest = (balance * 1 * 0.01)\n",
    "interest"
   ]
  },
  {
   "cell_type": "markdown",
   "metadata": {},
   "source": [
    "This interest get's added to the account balance. So we need to update our balance variable."
   ]
  },
  {
   "cell_type": "code",
   "execution_count": 137,
   "metadata": {},
   "outputs": [],
   "source": [
    "balance = balance + interest"
   ]
  },
  {
   "cell_type": "code",
   "execution_count": 138,
   "metadata": {},
   "outputs": [
    {
     "data": {
      "text/plain": [
       "1010000.0"
      ]
     },
     "execution_count": 138,
     "metadata": {},
     "output_type": "execute_result"
    }
   ],
   "source": [
    "balance"
   ]
  },
  {
   "cell_type": "markdown",
   "metadata": {},
   "source": [
    "Now do this for another year,"
   ]
  },
  {
   "cell_type": "code",
   "execution_count": 139,
   "metadata": {},
   "outputs": [
    {
     "data": {
      "text/plain": [
       "10100.0"
      ]
     },
     "execution_count": 139,
     "metadata": {},
     "output_type": "execute_result"
    }
   ],
   "source": [
    "interest = balance * 1 * 0.01\n",
    "interest"
   ]
  },
  {
   "cell_type": "code",
   "execution_count": 140,
   "metadata": {},
   "outputs": [],
   "source": [
    "balance = balance + interest"
   ]
  },
  {
   "cell_type": "code",
   "execution_count": 141,
   "metadata": {},
   "outputs": [
    {
     "data": {
      "text/plain": [
       "1020100.0"
      ]
     },
     "execution_count": 141,
     "metadata": {},
     "output_type": "execute_result"
    }
   ],
   "source": [
    "balance"
   ]
  },
  {
   "cell_type": "markdown",
   "metadata": {},
   "source": [
    "And one more year,"
   ]
  },
  {
   "cell_type": "code",
   "execution_count": 142,
   "metadata": {},
   "outputs": [
    {
     "data": {
      "text/plain": [
       "1030301.0"
      ]
     },
     "execution_count": 142,
     "metadata": {},
     "output_type": "execute_result"
    }
   ],
   "source": [
    "balance = balance + (balance * 1 * 0.01)\n",
    "balance"
   ]
  },
  {
   "cell_type": "markdown",
   "metadata": {},
   "source": [
    "## <font color='blue'>Function</font> - Fix the repetition!"
   ]
  },
  {
   "cell_type": "markdown",
   "metadata": {},
   "source": [
    "By now we can see that we have been repeating the same code every time we need to calculate the interest and update our balance. It would be good if we can group the repetitive code and just use it when needed.\n",
    "\n",
    "This is where Python functions comes to our rescue. A function is a way to group repetitive code so that we can call this block of code when needed instead of writing that code again."
   ]
  },
  {
   "cell_type": "code",
   "execution_count": 143,
   "metadata": {},
   "outputs": [],
   "source": [
    "def calcInterest(principal, time, rate):\n",
    "    return (principal * time * rate) / 100"
   ]
  },
  {
   "cell_type": "markdown",
   "metadata": {},
   "source": [
    "The below picture explains the different parts of this function,\n",
    "\n",
    "<img src='Python Learning/Images/Function Definition.png'/>"
   ]
  },
  {
   "cell_type": "markdown",
   "metadata": {},
   "source": [
    "In the above step we have just defined a function. When we need to use it we call the function with the required inputs."
   ]
  },
  {
   "cell_type": "code",
   "execution_count": 144,
   "metadata": {},
   "outputs": [
    {
     "data": {
      "text/plain": [
       "1030404.0301"
      ]
     },
     "execution_count": 144,
     "metadata": {},
     "output_type": "execute_result"
    }
   ],
   "source": [
    "balance = balance + calcInterest(balance, 1, 0.01)\n",
    "balance"
   ]
  },
  {
   "cell_type": "code",
   "execution_count": 145,
   "metadata": {},
   "outputs": [
    {
     "data": {
      "text/plain": [
       "1030507.07050301"
      ]
     },
     "execution_count": 145,
     "metadata": {},
     "output_type": "execute_result"
    }
   ],
   "source": [
    "balance = balance + calcInterest(balance, 1, 0.01)\n",
    "balance"
   ]
  },
  {
   "cell_type": "markdown",
   "metadata": {},
   "source": [
    "Again in the above two examples we are repeating some code. So lets use functions again,"
   ]
  },
  {
   "cell_type": "code",
   "execution_count": 146,
   "metadata": {},
   "outputs": [],
   "source": [
    "def addInterest(balance, time, rate):\n",
    "    return balance + calcInterest(balance, time, rate)"
   ]
  },
  {
   "cell_type": "code",
   "execution_count": 147,
   "metadata": {},
   "outputs": [
    {
     "data": {
      "text/plain": [
       "1030610.1212100602"
      ]
     },
     "execution_count": 147,
     "metadata": {},
     "output_type": "execute_result"
    }
   ],
   "source": [
    "balance = addInterest(balance, 1, 0.01)\n",
    "balance"
   ]
  },
  {
   "cell_type": "markdown",
   "metadata": {},
   "source": [
    "### More accounts!"
   ]
  },
  {
   "cell_type": "markdown",
   "metadata": {},
   "source": [
    "Bank is not all about one account. There are more accounts managed by any bank.\n",
    "\n",
    "So let's use new variables for a couple more accounts and perform some deposits,"
   ]
  },
  {
   "cell_type": "code",
   "execution_count": 148,
   "metadata": {},
   "outputs": [],
   "source": [
    "accNumber1 = 102\n",
    "name2 = 'Tom'\n",
    "balance2 = 0"
   ]
  },
  {
   "cell_type": "code",
   "execution_count": 149,
   "metadata": {},
   "outputs": [],
   "source": [
    "accNumber2 = 103\n",
    "name3 = 'Elsa'\n",
    "balance3 = 0"
   ]
  },
  {
   "cell_type": "code",
   "execution_count": 150,
   "metadata": {},
   "outputs": [],
   "source": [
    "balance2 = balance2 + 100"
   ]
  },
  {
   "cell_type": "code",
   "execution_count": 151,
   "metadata": {},
   "outputs": [],
   "source": [
    "balance3 = balance3 + 200"
   ]
  },
  {
   "cell_type": "code",
   "execution_count": 152,
   "metadata": {},
   "outputs": [
    {
     "data": {
      "text/plain": [
       "100"
      ]
     },
     "execution_count": 152,
     "metadata": {},
     "output_type": "execute_result"
    }
   ],
   "source": [
    "balance2"
   ]
  },
  {
   "cell_type": "code",
   "execution_count": 153,
   "metadata": {},
   "outputs": [
    {
     "data": {
      "text/plain": [
       "200"
      ]
     },
     "execution_count": 153,
     "metadata": {},
     "output_type": "execute_result"
    }
   ],
   "source": [
    "balance3"
   ]
  },
  {
   "cell_type": "markdown",
   "metadata": {},
   "source": [
    "Now you can imagine creating multiple variables for different accounts. There is no comman naming standard as well.\n",
    "\n",
    "For example, we used accNumber**1** for account number but balance**2** for balance of the same account."
   ]
  },
  {
   "cell_type": "markdown",
   "metadata": {},
   "source": [
    "## <font color='blue'>Class</font> to the rescue"
   ]
  },
  {
   "cell_type": "markdown",
   "metadata": {},
   "source": [
    "Just like how we used functions to group repetitive code, Python offers **Classes** to group multiple variables related to a particular functionality."
   ]
  },
  {
   "cell_type": "code",
   "execution_count": 154,
   "metadata": {},
   "outputs": [],
   "source": [
    "class Account:\n",
    "    accNumber = 0\n",
    "    name = ''\n",
    "    balance = 0"
   ]
  },
  {
   "cell_type": "markdown",
   "metadata": {},
   "source": [
    "This class definition creates a template saying that any account object will have 3 attributes with the same name.\n",
    "\n",
    "From the template we can create different objects. This process is called as instantiating objects. It will look similar to calling a function."
   ]
  },
  {
   "cell_type": "code",
   "execution_count": 155,
   "metadata": {},
   "outputs": [],
   "source": [
    "ac1 = Account()\n",
    "ac2 = Account()\n",
    "ac3 = Account()"
   ]
  },
  {
   "cell_type": "markdown",
   "metadata": {},
   "source": [
    "All objects of a class share the same attributes and those attributes have some default values. We can now use the account variables from the above cell and access the attributes,\n",
    "\n",
    "*Object Variable*<font color='red'>.</font>*Attribute Name* -> Note the dot"
   ]
  },
  {
   "cell_type": "code",
   "execution_count": 156,
   "metadata": {},
   "outputs": [
    {
     "data": {
      "text/plain": [
       "0"
      ]
     },
     "execution_count": 156,
     "metadata": {},
     "output_type": "execute_result"
    }
   ],
   "source": [
    "ac1.accNumber"
   ]
  },
  {
   "cell_type": "code",
   "execution_count": 157,
   "metadata": {},
   "outputs": [
    {
     "data": {
      "text/plain": [
       "''"
      ]
     },
     "execution_count": 157,
     "metadata": {},
     "output_type": "execute_result"
    }
   ],
   "source": [
    "ac1.name"
   ]
  },
  {
   "cell_type": "code",
   "execution_count": 158,
   "metadata": {},
   "outputs": [
    {
     "data": {
      "text/plain": [
       "0"
      ]
     },
     "execution_count": 158,
     "metadata": {},
     "output_type": "execute_result"
    }
   ],
   "source": [
    "ac1.balance"
   ]
  },
  {
   "cell_type": "code",
   "execution_count": 159,
   "metadata": {},
   "outputs": [
    {
     "data": {
      "text/plain": [
       "0"
      ]
     },
     "execution_count": 159,
     "metadata": {},
     "output_type": "execute_result"
    }
   ],
   "source": [
    "ac2.accNumber"
   ]
  },
  {
   "cell_type": "markdown",
   "metadata": {},
   "source": [
    "### Initialization"
   ]
  },
  {
   "cell_type": "markdown",
   "metadata": {},
   "source": [
    "So far we have created different object and their attributes all have default values. We need to initialize the other attributes."
   ]
  },
  {
   "cell_type": "code",
   "execution_count": 160,
   "metadata": {},
   "outputs": [],
   "source": [
    "ac1.accNumber = 101\n",
    "ac1.name = 'Jerry'"
   ]
  },
  {
   "cell_type": "code",
   "execution_count": 161,
   "metadata": {},
   "outputs": [],
   "source": [
    "ac2.accNumber = 102\n",
    "ac2.name = 'Tom'"
   ]
  },
  {
   "cell_type": "code",
   "execution_count": 162,
   "metadata": {},
   "outputs": [],
   "source": [
    "ac4 = Account()\n",
    "ac4.accNumber = 104\n",
    "ac4.name = 'Elsa'"
   ]
  },
  {
   "cell_type": "markdown",
   "metadata": {},
   "source": [
    "There is repetitive code during the initialization step. Think of **functions** when you see repetitive code. So let's create a function to remove the duplicate code."
   ]
  },
  {
   "cell_type": "code",
   "execution_count": 163,
   "metadata": {},
   "outputs": [],
   "source": [
    "def initializeAccount(ac, number, name):\n",
    "    ac.accNumber = number\n",
    "    ac.name = name"
   ]
  },
  {
   "cell_type": "code",
   "execution_count": 164,
   "metadata": {},
   "outputs": [],
   "source": [
    "initializeAccount(ac1, 101, 'Jerry')"
   ]
  },
  {
   "cell_type": "code",
   "execution_count": 165,
   "metadata": {},
   "outputs": [
    {
     "data": {
      "text/plain": [
       "101"
      ]
     },
     "execution_count": 165,
     "metadata": {},
     "output_type": "execute_result"
    }
   ],
   "source": [
    "ac1.accNumber"
   ]
  },
  {
   "cell_type": "code",
   "execution_count": 166,
   "metadata": {},
   "outputs": [
    {
     "data": {
      "text/plain": [
       "'Jerry'"
      ]
     },
     "execution_count": 166,
     "metadata": {},
     "output_type": "execute_result"
    }
   ],
   "source": [
    "ac1.name"
   ]
  },
  {
   "cell_type": "code",
   "execution_count": 167,
   "metadata": {},
   "outputs": [],
   "source": [
    "initializeAccount(ac2, 102, 'Tom')"
   ]
  },
  {
   "cell_type": "code",
   "execution_count": 168,
   "metadata": {},
   "outputs": [
    {
     "data": {
      "text/plain": [
       "102"
      ]
     },
     "execution_count": 168,
     "metadata": {},
     "output_type": "execute_result"
    }
   ],
   "source": [
    "ac2.accNumber"
   ]
  },
  {
   "cell_type": "code",
   "execution_count": 169,
   "metadata": {},
   "outputs": [
    {
     "data": {
      "text/plain": [
       "'Tom'"
      ]
     },
     "execution_count": 169,
     "metadata": {},
     "output_type": "execute_result"
    }
   ],
   "source": [
    "ac2.name"
   ]
  },
  {
   "cell_type": "markdown",
   "metadata": {},
   "source": [
    "**Class** offers a method that can be used to initialize an object. This is by using a special function called **__init__**.\n",
    "\n",
    "So let's just copy our **initializeAccount** method inside the Account class and rename it. "
   ]
  },
  {
   "cell_type": "code",
   "execution_count": 170,
   "metadata": {},
   "outputs": [],
   "source": [
    "class Account:\n",
    "    accNumber = 0\n",
    "    name = ''\n",
    "    balance = 0\n",
    "    \n",
    "    def __init__(ac, number, name):\n",
    "        ac.accNumber = number\n",
    "        ac.name = name"
   ]
  },
  {
   "cell_type": "markdown",
   "metadata": {},
   "source": [
    "With this change we can combine object creation and initialization into a single step."
   ]
  },
  {
   "cell_type": "code",
   "execution_count": 171,
   "metadata": {},
   "outputs": [],
   "source": [
    "ac1 = Account(101, 'Tom')"
   ]
  },
  {
   "cell_type": "code",
   "execution_count": 172,
   "metadata": {},
   "outputs": [
    {
     "data": {
      "text/plain": [
       "'Tom'"
      ]
     },
     "execution_count": 172,
     "metadata": {},
     "output_type": "execute_result"
    }
   ],
   "source": [
    "ac1.name"
   ]
  },
  {
   "cell_type": "code",
   "execution_count": 173,
   "metadata": {},
   "outputs": [
    {
     "data": {
      "text/plain": [
       "101"
      ]
     },
     "execution_count": 173,
     "metadata": {},
     "output_type": "execute_result"
    }
   ],
   "source": [
    "ac1.accNumber"
   ]
  },
  {
   "cell_type": "code",
   "execution_count": 174,
   "metadata": {},
   "outputs": [],
   "source": [
    "ac2 = Account(102, 'Jerry')"
   ]
  },
  {
   "cell_type": "code",
   "execution_count": 175,
   "metadata": {},
   "outputs": [
    {
     "data": {
      "text/plain": [
       "102"
      ]
     },
     "execution_count": 175,
     "metadata": {},
     "output_type": "execute_result"
    }
   ],
   "source": [
    "ac2.accNumber"
   ]
  },
  {
   "cell_type": "code",
   "execution_count": 176,
   "metadata": {},
   "outputs": [
    {
     "data": {
      "text/plain": [
       "'Jerry'"
      ]
     },
     "execution_count": 176,
     "metadata": {},
     "output_type": "execute_result"
    }
   ],
   "source": [
    "ac2.name"
   ]
  },
  {
   "cell_type": "markdown",
   "metadata": {},
   "source": [
    "### Functions to use objects"
   ]
  },
  {
   "cell_type": "markdown",
   "metadata": {},
   "source": [
    "Now let's create two more functions that can operate on the account object to deposit and withdraw."
   ]
  },
  {
   "cell_type": "code",
   "execution_count": 177,
   "metadata": {},
   "outputs": [],
   "source": [
    "def deposit(acc, amount):\n",
    "    acc.balance = acc.balance + amount"
   ]
  },
  {
   "cell_type": "code",
   "execution_count": 178,
   "metadata": {},
   "outputs": [
    {
     "data": {
      "text/plain": [
       "0"
      ]
     },
     "execution_count": 178,
     "metadata": {},
     "output_type": "execute_result"
    }
   ],
   "source": [
    "ac1.balance"
   ]
  },
  {
   "cell_type": "code",
   "execution_count": 179,
   "metadata": {},
   "outputs": [],
   "source": [
    "deposit(ac1, 100)"
   ]
  },
  {
   "cell_type": "code",
   "execution_count": 180,
   "metadata": {},
   "outputs": [
    {
     "data": {
      "text/plain": [
       "100"
      ]
     },
     "execution_count": 180,
     "metadata": {},
     "output_type": "execute_result"
    }
   ],
   "source": [
    "ac1.balance"
   ]
  },
  {
   "cell_type": "code",
   "execution_count": 181,
   "metadata": {},
   "outputs": [],
   "source": [
    "deposit(ac2, 200)"
   ]
  },
  {
   "cell_type": "code",
   "execution_count": 182,
   "metadata": {},
   "outputs": [
    {
     "data": {
      "text/plain": [
       "200"
      ]
     },
     "execution_count": 182,
     "metadata": {},
     "output_type": "execute_result"
    }
   ],
   "source": [
    "ac2.balance"
   ]
  },
  {
   "cell_type": "code",
   "execution_count": 183,
   "metadata": {},
   "outputs": [],
   "source": [
    "def withdraw(acc, amount):\n",
    "    acc.balance = acc.balance - amount"
   ]
  },
  {
   "cell_type": "code",
   "execution_count": 184,
   "metadata": {},
   "outputs": [],
   "source": [
    "withdraw(ac1, 50)"
   ]
  },
  {
   "cell_type": "code",
   "execution_count": 185,
   "metadata": {},
   "outputs": [
    {
     "data": {
      "text/plain": [
       "50"
      ]
     },
     "execution_count": 185,
     "metadata": {},
     "output_type": "execute_result"
    }
   ],
   "source": [
    "ac1.balance"
   ]
  },
  {
   "cell_type": "markdown",
   "metadata": {},
   "source": [
    "### Behaviors"
   ]
  },
  {
   "cell_type": "markdown",
   "metadata": {},
   "source": [
    "So far we have grouped all data attributes related to an account in a class. Now we can group the behaviors into the class as well. \n",
    "\n",
    "Let's just move the above two functions inside the Account class."
   ]
  },
  {
   "cell_type": "code",
   "execution_count": 186,
   "metadata": {},
   "outputs": [],
   "source": [
    "class Account:\n",
    "    accNumber = 0\n",
    "    name = ''\n",
    "    balance = 0\n",
    "    \n",
    "    def __init__(ac, number, name):\n",
    "        ac.accNumber = number\n",
    "        ac.name = name\n",
    "        \n",
    "    def deposit(ac, amount):\n",
    "        ac.balance = ac.balance + amount\n",
    "        \n",
    "    def withdraw(ac, amount):\n",
    "        ac.balance = ac.balance - amount"
   ]
  },
  {
   "cell_type": "markdown",
   "metadata": {},
   "source": [
    "We can now use these functions as part of the class."
   ]
  },
  {
   "cell_type": "code",
   "execution_count": 187,
   "metadata": {},
   "outputs": [],
   "source": [
    "ac1 = Account(101, 'Tom')"
   ]
  },
  {
   "cell_type": "code",
   "execution_count": 188,
   "metadata": {},
   "outputs": [],
   "source": [
    "ac1.deposit(100)"
   ]
  },
  {
   "cell_type": "code",
   "execution_count": 189,
   "metadata": {},
   "outputs": [],
   "source": [
    "ac1.withdraw(40)"
   ]
  },
  {
   "cell_type": "code",
   "execution_count": 190,
   "metadata": {},
   "outputs": [
    {
     "data": {
      "text/plain": [
       "60"
      ]
     },
     "execution_count": 190,
     "metadata": {},
     "output_type": "execute_result"
    }
   ],
   "source": [
    "ac1.balance"
   ]
  },
  {
   "cell_type": "markdown",
   "metadata": {},
   "source": [
    "**<font color='red'>But wait!</font>**"
   ]
  },
  {
   "cell_type": "markdown",
   "metadata": {},
   "source": [
    "When we just had the function **deposit** outside the class we called it like this,\n",
    "\n",
    "<font color='blue'>deposit(**ac1**, 200)</font> -> Note the first argument"
   ]
  },
  {
   "cell_type": "markdown",
   "metadata": {},
   "source": [
    "But when we moved it inside the class there is a difference,\n",
    "\n",
    "<font color='blue'>**ac1**.deposit(200)</font>"
   ]
  },
  {
   "cell_type": "markdown",
   "metadata": {},
   "source": [
    "When calling a function on an object Python passes the object as the first argument. So we can ignore the first input and just the pass the rest."
   ]
  },
  {
   "cell_type": "markdown",
   "metadata": {},
   "source": [
    "### Bank"
   ]
  },
  {
   "cell_type": "markdown",
   "metadata": {},
   "source": [
    "Now let's create a class to represent a bank. A bank normally has a name and then another attribute to store accounts."
   ]
  },
  {
   "cell_type": "code",
   "execution_count": 191,
   "metadata": {},
   "outputs": [],
   "source": [
    "class Bank:\n",
    "    \n",
    "    name = None\n",
    "    accounts = None\n",
    "    \n",
    "    def __init__(self, name):\n",
    "        self.name = name\n",
    "        self.accounts = None"
   ]
  },
  {
   "cell_type": "markdown",
   "metadata": {},
   "source": [
    "What should we set the accounts to? It needs to hold a collection of accounts."
   ]
  },
  {
   "cell_type": "markdown",
   "metadata": {},
   "source": [
    "## <font color='blue'>List</list>"
   ]
  },
  {
   "cell_type": "markdown",
   "metadata": {},
   "source": [
    "Python includes a list type that holds a collection of values."
   ]
  },
  {
   "cell_type": "code",
   "execution_count": 192,
   "metadata": {},
   "outputs": [],
   "source": [
    "l1 = [1, 9, 3, 2, 'abc', 'xyz', 34]"
   ]
  },
  {
   "cell_type": "markdown",
   "metadata": {},
   "source": [
    "A list can hold a collection of different types of data. In the above example we see integers and strings part of the same list.\n",
    "\n",
    "Each value is at a particular position in a list. The position or index in Python starts with 0. So the value 1 is at 0th position, the value 9 is at 1st position and so on."
   ]
  },
  {
   "cell_type": "markdown",
   "metadata": {},
   "source": [
    "<img src=\"List Example.jpg\" width=600/>"
   ]
  },
  {
   "cell_type": "markdown",
   "metadata": {},
   "source": [
    "To read an item from the list we can use the position index of the item."
   ]
  },
  {
   "cell_type": "code",
   "execution_count": 193,
   "metadata": {},
   "outputs": [
    {
     "data": {
      "text/plain": [
       "1"
      ]
     },
     "execution_count": 193,
     "metadata": {},
     "output_type": "execute_result"
    }
   ],
   "source": [
    "l1[0]"
   ]
  },
  {
   "cell_type": "code",
   "execution_count": 194,
   "metadata": {},
   "outputs": [
    {
     "data": {
      "text/plain": [
       "9"
      ]
     },
     "execution_count": 194,
     "metadata": {},
     "output_type": "execute_result"
    }
   ],
   "source": [
    "l1[1]"
   ]
  },
  {
   "cell_type": "markdown",
   "metadata": {},
   "source": [
    "and so on."
   ]
  },
  {
   "cell_type": "markdown",
   "metadata": {},
   "source": [
    "To add a new item to the list we can use the **append** function of list. This will add the item to the end of the list."
   ]
  },
  {
   "cell_type": "code",
   "execution_count": 195,
   "metadata": {},
   "outputs": [
    {
     "data": {
      "text/plain": [
       "[1, 9, 3, 2, 'abc', 'xyz', 34]"
      ]
     },
     "execution_count": 195,
     "metadata": {},
     "output_type": "execute_result"
    }
   ],
   "source": [
    "l1"
   ]
  },
  {
   "cell_type": "code",
   "execution_count": 196,
   "metadata": {},
   "outputs": [
    {
     "data": {
      "text/plain": [
       "[1, 9, 3, 2, 'abc', 'xyz', 34, 10]"
      ]
     },
     "execution_count": 196,
     "metadata": {},
     "output_type": "execute_result"
    }
   ],
   "source": [
    "l1.append(10)\n",
    "l1"
   ]
  },
  {
   "cell_type": "markdown",
   "metadata": {},
   "source": [
    "You can see that 10 got added to the end of the list.\n",
    "\n",
    "We can also use the **insert** method to add an item at a particular position. "
   ]
  },
  {
   "cell_type": "code",
   "execution_count": 197,
   "metadata": {},
   "outputs": [
    {
     "data": {
      "text/plain": [
       "[1, 56, 9, 3, 2, 'abc', 'xyz', 34, 10]"
      ]
     },
     "execution_count": 197,
     "metadata": {},
     "output_type": "execute_result"
    }
   ],
   "source": [
    "# insert 56 at position 1, the first input is position and the second input is the value to insert\n",
    "l1.insert(1, 56)\n",
    "l1"
   ]
  },
  {
   "cell_type": "markdown",
   "metadata": {},
   "source": [
    "To remove an item we can use the **pop** method.\n",
    "\n",
    "When called without any input this would remove the last item and then return it."
   ]
  },
  {
   "cell_type": "code",
   "execution_count": 198,
   "metadata": {},
   "outputs": [
    {
     "data": {
      "text/plain": [
       "10"
      ]
     },
     "execution_count": 198,
     "metadata": {},
     "output_type": "execute_result"
    }
   ],
   "source": [
    "# remove the last item\n",
    "l1.pop()"
   ]
  },
  {
   "cell_type": "markdown",
   "metadata": {},
   "source": [
    "When called with a position then the item at that position will be removed and returned."
   ]
  },
  {
   "cell_type": "code",
   "execution_count": 199,
   "metadata": {},
   "outputs": [
    {
     "data": {
      "text/plain": [
       "9"
      ]
     },
     "execution_count": 199,
     "metadata": {},
     "output_type": "execute_result"
    }
   ],
   "source": [
    "# remove the item at index 0\n",
    "l1.pop(2)"
   ]
  },
  {
   "cell_type": "markdown",
   "metadata": {},
   "source": [
    "## <font color='blue'>Loops</font>"
   ]
  },
  {
   "cell_type": "markdown",
   "metadata": {},
   "source": [
    "Let's say we want to find out how many times a particular item is found in a list.\n",
    "\n",
    "Ex.\n",
    "\n",
    "**Input**: *List* => [9, 6, 4, 10, 4, 11, 2, 3, 4, 16] *Number to find* => 4\n",
    "\n",
    "**Output**: 3"
   ]
  },
  {
   "cell_type": "markdown",
   "metadata": {},
   "source": [
    "To solve this programmatically we need to look at each item in the list.\n",
    "\n",
    "Python offers a construct called **for loop** that will iterate thru every single item in the list."
   ]
  },
  {
   "cell_type": "code",
   "execution_count": 200,
   "metadata": {},
   "outputs": [
    {
     "name": "stdout",
     "output_type": "stream",
     "text": [
      "1\n",
      "56\n",
      "3\n",
      "2\n",
      "abc\n",
      "xyz\n",
      "34\n"
     ]
    }
   ],
   "source": [
    "for item in l1:\n",
    "    print(item)"
   ]
  },
  {
   "cell_type": "markdown",
   "metadata": {},
   "source": [
    "For each item the body of the loop will be executed. During each iteration **item** variable will be set to the next item in the list.\n",
    "\n",
    "Let's say we have a list of numbers and we want to calculate the square of each number."
   ]
  },
  {
   "cell_type": "code",
   "execution_count": 201,
   "metadata": {},
   "outputs": [
    {
     "name": "stdout",
     "output_type": "stream",
     "text": [
      "1  square is  1\n",
      "2  square is  4\n",
      "4  square is  16\n"
     ]
    }
   ],
   "source": [
    "numbers = [1, 2, 4]\n",
    "for n in numbers:\n",
    "    square = n * n\n",
    "    print(n, ' square is ', square)"
   ]
  },
  {
   "cell_type": "markdown",
   "metadata": {},
   "source": [
    "The below is an equivalent code that does the same thing but in a lengthy way,"
   ]
  },
  {
   "cell_type": "code",
   "execution_count": 202,
   "metadata": {},
   "outputs": [
    {
     "name": "stdout",
     "output_type": "stream",
     "text": [
      "1  square is  1\n",
      "2  square is  4\n",
      "4  square is  16\n"
     ]
    }
   ],
   "source": [
    "numbers = [1, 2, 4]\n",
    "# Iteration 1\n",
    "n = numbers[0]\n",
    "square = n * n\n",
    "print(n, ' square is ', square)\n",
    "\n",
    "# Iteration 2\n",
    "n = numbers[1]\n",
    "square = n * n\n",
    "print(n, ' square is ', square)\n",
    "\n",
    "# Iteration 3\n",
    "n = numbers[2]\n",
    "square = n * n\n",
    "print(n, ' square is ', square)"
   ]
  },
  {
   "cell_type": "markdown",
   "metadata": {},
   "source": [
    "As you can see from the above code using a for loop is much more efficient."
   ]
  },
  {
   "cell_type": "markdown",
   "metadata": {},
   "source": [
    "## <font color='blue'>If - elif - else</font>"
   ]
  },
  {
   "cell_type": "markdown",
   "metadata": {},
   "source": [
    "We can use conditional statements to alter the flow of execution. This can be done using Python's if - elif - else statements.\n",
    "\n",
    "Let's say we want to print something only if a number is even."
   ]
  },
  {
   "cell_type": "code",
   "execution_count": 203,
   "metadata": {},
   "outputs": [
    {
     "name": "stdout",
     "output_type": "stream",
     "text": [
      "The given number is an odd number\n"
     ]
    }
   ],
   "source": [
    "n = 3\n",
    "if (n % 2) == 0:\n",
    "    print('The given number is an even number')\n",
    "else:\n",
    "    print('The given number is an odd number')"
   ]
  },
  {
   "cell_type": "markdown",
   "metadata": {},
   "source": [
    "> **Note**:\n",
    "- We use 2 equals sign to check if the left and right hand side values are equal.\n",
    "- % operator outputs the remainder after division"
   ]
  },
  {
   "cell_type": "markdown",
   "metadata": {},
   "source": [
    "The above code checks the condition and only if it matches it will execute the block after **if**. Otherwise the else block code will be executed."
   ]
  },
  {
   "cell_type": "markdown",
   "metadata": {},
   "source": [
    "### Bank continued..."
   ]
  },
  {
   "cell_type": "markdown",
   "metadata": {},
   "source": [
    "With the knowledge of **list**, **for** loop and **if-else** statements let's update our Bank code so that accounts will be a list."
   ]
  },
  {
   "cell_type": "code",
   "execution_count": 204,
   "metadata": {},
   "outputs": [],
   "source": [
    "class Bank:\n",
    "    \n",
    "    name = None\n",
    "    accounts = None\n",
    "    \n",
    "    def __init__(self, name):\n",
    "        self.name = name\n",
    "        self.accounts = []"
   ]
  },
  {
   "cell_type": "markdown",
   "metadata": {},
   "source": [
    "### Open New Account"
   ]
  },
  {
   "cell_type": "markdown",
   "metadata": {},
   "source": [
    "One of the common functionalities of a bank would be to allow customers to open a new account. So let's add a new function to do this."
   ]
  },
  {
   "cell_type": "code",
   "execution_count": 205,
   "metadata": {},
   "outputs": [],
   "source": [
    "class Bank:\n",
    "    \n",
    "    name = None\n",
    "    accounts = None\n",
    "    \n",
    "    def __init__(self, name):\n",
    "        self.name = name\n",
    "        self.accounts = []\n",
    "        \n",
    "    def openAccount(self, accNumber, name):\n",
    "        ac = Account(accNumber, name)\n",
    "        self.accounts.append(ac)\n",
    "        return ac"
   ]
  },
  {
   "cell_type": "markdown",
   "metadata": {},
   "source": [
    "In the above code we have added **openAccount** function that creates a new account and adds it to the list. With this new function we can create some new accounts."
   ]
  },
  {
   "cell_type": "code",
   "execution_count": 206,
   "metadata": {},
   "outputs": [
    {
     "data": {
      "text/plain": [
       "<__main__.Account at 0x1f3f430ecc0>"
      ]
     },
     "execution_count": 206,
     "metadata": {},
     "output_type": "execute_result"
    }
   ],
   "source": [
    "bk1 = Bank('World Bank')\n",
    "bk1.openAccount(101, 'SpiderWoman')\n",
    "bk1.openAccount(102, 'BatWoman')\n",
    "bk1.openAccount(103, 'WonderWoman')"
   ]
  },
  {
   "cell_type": "code",
   "execution_count": 207,
   "metadata": {},
   "outputs": [
    {
     "data": {
      "text/plain": [
       "[<__main__.Account at 0x1f3f43410b8>,\n",
       " <__main__.Account at 0x1f3f430eda0>,\n",
       " <__main__.Account at 0x1f3f430ecc0>]"
      ]
     },
     "execution_count": 207,
     "metadata": {},
     "output_type": "execute_result"
    }
   ],
   "source": [
    "bk1.accounts"
   ]
  },
  {
   "cell_type": "markdown",
   "metadata": {},
   "source": [
    "### Find Account"
   ]
  },
  {
   "cell_type": "markdown",
   "metadata": {},
   "source": [
    "Now that we can add multiple accounts to a bank we would need a way to find a specific account given an account number. This would involve usng both the **for** loop and **if** statement."
   ]
  },
  {
   "cell_type": "code",
   "execution_count": 208,
   "metadata": {},
   "outputs": [],
   "source": [
    "class Bank:\n",
    "    \n",
    "    name = None\n",
    "    accounts = None\n",
    "    \n",
    "    def __init__(self, name):\n",
    "        self.name = name\n",
    "        self.accounts = []\n",
    "        \n",
    "    def openAccount(self, accNumber, name):\n",
    "        ac = Account(accNumber, name)\n",
    "        self.accounts.append(ac)\n",
    "        return ac\n",
    "    \n",
    "    def findAccount(self, accNumber):\n",
    "        for ac in self.accounts:\n",
    "            if ac.accNumber == accNumber:  # this checks if the account number is same as the input\n",
    "                return ac"
   ]
  },
  {
   "cell_type": "code",
   "execution_count": 209,
   "metadata": {},
   "outputs": [
    {
     "data": {
      "text/plain": [
       "<__main__.Account at 0x1f3f43405c0>"
      ]
     },
     "execution_count": 209,
     "metadata": {},
     "output_type": "execute_result"
    }
   ],
   "source": [
    "bk1 = Bank('World Bank')\n",
    "bk1.openAccount(101, 'SpiderWoman')\n",
    "bk1.openAccount(102, 'BatWoman')\n",
    "bk1.openAccount(103, 'WonderWoman')"
   ]
  },
  {
   "cell_type": "code",
   "execution_count": 210,
   "metadata": {},
   "outputs": [],
   "source": [
    "ac = bk1.findAccount(102)"
   ]
  },
  {
   "cell_type": "markdown",
   "metadata": {},
   "source": [
    "We expect the name to be BatWoman since that account's number is 102."
   ]
  },
  {
   "cell_type": "code",
   "execution_count": 211,
   "metadata": {},
   "outputs": [
    {
     "name": "stdout",
     "output_type": "stream",
     "text": [
      "BatWoman\n"
     ]
    }
   ],
   "source": [
    "print(ac.name)"
   ]
  },
  {
   "cell_type": "markdown",
   "metadata": {},
   "source": [
    "### Deposit and Withdraw"
   ]
  },
  {
   "cell_type": "markdown",
   "metadata": {},
   "source": [
    "A customer might walk into a bank and say I want to deposit or withdraw into his account. They might give the account number and the amount to deposit or withdraw. \n",
    "\n",
    "With the **findAccount** method we just added it is easier to find an account with a specific number. We can use this to create new **deposit**, **withdraw** and **showBalance** functions."
   ]
  },
  {
   "cell_type": "code",
   "execution_count": 212,
   "metadata": {},
   "outputs": [],
   "source": [
    "class Bank:\n",
    "    \n",
    "    name = None\n",
    "    accounts = None\n",
    "    \n",
    "    def __init__(self, name):\n",
    "        self.name = name\n",
    "        self.accounts = []\n",
    "        \n",
    "    def openAccount(self, accNumber, name):\n",
    "        ac = Account(accNumber, name)\n",
    "        self.accounts.append(ac)\n",
    "        return ac\n",
    "    \n",
    "    def findAccount(self, accNumber):\n",
    "        for ac in self.accounts:\n",
    "            if ac.accNumber == accNumber:\n",
    "                return ac\n",
    "    \n",
    "    def deposit(self, accNumber, amount):\n",
    "        # find the account with the given accNumber\n",
    "        # deposit the amount in the account\n",
    "        ac = self.findAccount(accNumber)\n",
    "        ac.deposit(amount)\n",
    "\n",
    "    def withdraw(self, accNumber, amount):\n",
    "        # find the account with the given accNumber\n",
    "        # withdraw the amount from the account\n",
    "        ac = self.findAccount(accNumber)\n",
    "        ac.withdraw(amount)\n",
    "\n",
    "    def showBalance(self, accNumber):\n",
    "        # find the account\n",
    "        # show the balance\n",
    "        ac = self.findAccount(accNumber)\n",
    "        print(ac.balance)"
   ]
  },
  {
   "cell_type": "code",
   "execution_count": 213,
   "metadata": {},
   "outputs": [
    {
     "data": {
      "text/plain": [
       "<__main__.Account at 0x1f3f4341048>"
      ]
     },
     "execution_count": 213,
     "metadata": {},
     "output_type": "execute_result"
    }
   ],
   "source": [
    "bk1 = Bank('World Bank')\n",
    "bk1.openAccount(101, 'SpiderWoman')\n",
    "bk1.openAccount(102, 'BatWoman')\n",
    "bk1.openAccount(103, 'WonderWoman')"
   ]
  },
  {
   "cell_type": "code",
   "execution_count": 214,
   "metadata": {},
   "outputs": [],
   "source": [
    "bk1.deposit(102, 1000)"
   ]
  },
  {
   "cell_type": "code",
   "execution_count": 215,
   "metadata": {},
   "outputs": [
    {
     "name": "stdout",
     "output_type": "stream",
     "text": [
      "1000\n"
     ]
    }
   ],
   "source": [
    "bk1.showBalance(102)"
   ]
  },
  {
   "cell_type": "code",
   "execution_count": 216,
   "metadata": {},
   "outputs": [],
   "source": [
    "bk1.withdraw(102, 50)"
   ]
  },
  {
   "cell_type": "code",
   "execution_count": 217,
   "metadata": {},
   "outputs": [
    {
     "name": "stdout",
     "output_type": "stream",
     "text": [
      "950\n"
     ]
    }
   ],
   "source": [
    "bk1.showBalance(102)"
   ]
  },
  {
   "cell_type": "markdown",
   "metadata": {},
   "source": [
    "## <font color='blue'>Dictionary</font>"
   ]
  },
  {
   "cell_type": "markdown",
   "metadata": {},
   "source": [
    "In the above implementation we used a **list** for acounts and then used a **for** loop to search for an account that matches with the account number. \n",
    "\n",
    "Consider a scenario where we have million accounts. To find a specific account we would need to look at all million accounts in the worst case.\n",
    "\n",
    "Python includes a **dict** class that allows associating values with specific keys. It will be easier to read values by using the corresponding keys. "
   ]
  },
  {
   "cell_type": "code",
   "execution_count": 218,
   "metadata": {},
   "outputs": [],
   "source": [
    "contacts = {'SpiderWoman': '001123', 'BatWoman': '001582'}"
   ]
  },
  {
   "cell_type": "markdown",
   "metadata": {},
   "source": [
    "<img src=\"Dict Example.jpg\" width=300/>"
   ]
  },
  {
   "cell_type": "markdown",
   "metadata": {},
   "source": [
    "Here we created a dictionary of contacts with name as the key and phone number as the value. \n",
    "\n",
    "> **Note**: We use curly braces ({}) to define a dictionary and a colon (:) is used to separate key and value.\n",
    "\n",
    "We can then use a key to read the mapped value."
   ]
  },
  {
   "cell_type": "code",
   "execution_count": 219,
   "metadata": {},
   "outputs": [
    {
     "data": {
      "text/plain": [
       "'001582'"
      ]
     },
     "execution_count": 219,
     "metadata": {},
     "output_type": "execute_result"
    }
   ],
   "source": [
    "contacts['BatWoman']"
   ]
  },
  {
   "cell_type": "code",
   "execution_count": 220,
   "metadata": {},
   "outputs": [
    {
     "data": {
      "text/plain": [
       "'001123'"
      ]
     },
     "execution_count": 220,
     "metadata": {},
     "output_type": "execute_result"
    }
   ],
   "source": [
    "contacts['SpiderWoman']"
   ]
  },
  {
   "cell_type": "markdown",
   "metadata": {},
   "source": [
    "If we try to read a key that doesn't exist then there will be a **KeyError**."
   ]
  },
  {
   "cell_type": "code",
   "execution_count": 221,
   "metadata": {},
   "outputs": [
    {
     "ename": "KeyError",
     "evalue": "'WonderWoman'",
     "output_type": "error",
     "traceback": [
      "\u001b[1;31m---------------------------------------------------------------------------\u001b[0m",
      "\u001b[1;31mKeyError\u001b[0m                                  Traceback (most recent call last)",
      "\u001b[1;32m<ipython-input-221-c7e564d13868>\u001b[0m in \u001b[0;36m<module>\u001b[1;34m\u001b[0m\n\u001b[1;32m----> 1\u001b[1;33m \u001b[0mcontacts\u001b[0m\u001b[1;33m[\u001b[0m\u001b[1;34m'WonderWoman'\u001b[0m\u001b[1;33m]\u001b[0m\u001b[1;33m\u001b[0m\u001b[1;33m\u001b[0m\u001b[0m\n\u001b[0m",
      "\u001b[1;31mKeyError\u001b[0m: 'WonderWoman'"
     ]
    }
   ],
   "source": [
    "contacts['WonderWoman']"
   ]
  },
  {
   "cell_type": "markdown",
   "metadata": {},
   "source": [
    "In cases where we are not sure if a key exists in the dictionary we can use the **get** method. When using a key that doesn't exist this method will return a **None** value."
   ]
  },
  {
   "cell_type": "code",
   "execution_count": 222,
   "metadata": {},
   "outputs": [],
   "source": [
    "contacts.get('WonderWoman')"
   ]
  },
  {
   "cell_type": "markdown",
   "metadata": {},
   "source": [
    "We can add a new key or modify an existing key like the below,"
   ]
  },
  {
   "cell_type": "code",
   "execution_count": 223,
   "metadata": {},
   "outputs": [],
   "source": [
    "contacts['WonderWoman'] = '001904' # Add a new key"
   ]
  },
  {
   "cell_type": "code",
   "execution_count": 224,
   "metadata": {},
   "outputs": [],
   "source": [
    "contacts['SpiderWoman'] = '001682' # Update an existing key"
   ]
  },
  {
   "cell_type": "code",
   "execution_count": 225,
   "metadata": {},
   "outputs": [
    {
     "name": "stdout",
     "output_type": "stream",
     "text": [
      "{'SpiderWoman': '001682', 'BatWoman': '001582', 'WonderWoman': '001904'}\n"
     ]
    }
   ],
   "source": [
    "print(contacts)"
   ]
  },
  {
   "cell_type": "markdown",
   "metadata": {},
   "source": [
    "### Replace list with dict"
   ]
  },
  {
   "cell_type": "markdown",
   "metadata": {},
   "source": [
    "Now we can replace **list** with a **dict** to store our accounts. That way we can read an account using the account number without having to use a **for** loop."
   ]
  },
  {
   "cell_type": "code",
   "execution_count": 226,
   "metadata": {},
   "outputs": [],
   "source": [
    "class Bank:\n",
    "    \n",
    "    name = None\n",
    "    accounts = None\n",
    "    \n",
    "    def __init__(self, name):\n",
    "        self.name = name\n",
    "        self.accounts = {}                  # Change to a dictionary\n",
    "        \n",
    "    def openAccount(self, accNumber, name):\n",
    "        ac = Account(accNumber, name)\n",
    "        self.accounts[accNumber] = ac       # Store using the accNumber as the key\n",
    "        return ac\n",
    "    \n",
    "    def findAccount(self, accNumber):\n",
    "        return self.accounts[accNumber]     # Read from the dictionary using accNumber without loop\n",
    "    \n",
    "    def deposit(self, accNumber, amount):\n",
    "        # find the account with the given accNumber\n",
    "        # deposit the amount in the account\n",
    "        ac = self.findAccount(accNumber)\n",
    "        ac.deposit(amount)\n",
    "\n",
    "    def withdraw(self, accNumber, amount):\n",
    "        # find the account with the given accNumber\n",
    "        # withdraw the amount from the account\n",
    "        ac = self.findAccount(accNumber)\n",
    "        ac.withdraw(amount)\n",
    "\n",
    "    def showBalance(self, accNumber):\n",
    "        # find the account\n",
    "        # show the balance\n",
    "        ac = self.findAccount(accNumber)\n",
    "        print(ac.balance)"
   ]
  },
  {
   "cell_type": "code",
   "execution_count": 227,
   "metadata": {},
   "outputs": [
    {
     "data": {
      "text/plain": [
       "<__main__.Account at 0x1f3f4322b00>"
      ]
     },
     "execution_count": 227,
     "metadata": {},
     "output_type": "execute_result"
    }
   ],
   "source": [
    "bk1 = Bank('World Bank')\n",
    "bk1.openAccount(101, 'SpiderWoman')\n",
    "bk1.openAccount(102, 'BatWoman')\n",
    "bk1.openAccount(103, 'WonderWoman')"
   ]
  },
  {
   "cell_type": "code",
   "execution_count": 228,
   "metadata": {},
   "outputs": [],
   "source": [
    "bk1.deposit(102, 1000)"
   ]
  },
  {
   "cell_type": "code",
   "execution_count": 229,
   "metadata": {},
   "outputs": [
    {
     "name": "stdout",
     "output_type": "stream",
     "text": [
      "1000\n"
     ]
    }
   ],
   "source": [
    "bk1.showBalance(102)"
   ]
  },
  {
   "cell_type": "code",
   "execution_count": 230,
   "metadata": {},
   "outputs": [],
   "source": [
    "bk1.withdraw(102, 300)"
   ]
  },
  {
   "cell_type": "code",
   "execution_count": 231,
   "metadata": {},
   "outputs": [
    {
     "name": "stdout",
     "output_type": "stream",
     "text": [
      "700\n"
     ]
    }
   ],
   "source": [
    "bk1.showBalance(102)"
   ]
  },
  {
   "cell_type": "markdown",
   "metadata": {},
   "source": [
    "## Build an User Interface"
   ]
  },
  {
   "cell_type": "markdown",
   "metadata": {},
   "source": [
    "So far we have been executing code to interact with our classes to execute different functionality. However we want to build a software that a bank's front office employee can use when interacting with customers.\n",
    "\n",
    "Before we start building an user interface we need to understand a couple of different functionalities."
   ]
  },
  {
   "cell_type": "markdown",
   "metadata": {},
   "source": [
    "### <font color='blue'>input</font> function"
   ]
  },
  {
   "cell_type": "markdown",
   "metadata": {},
   "source": [
    "Python includes an **input** function that can be used to get some input from the users."
   ]
  },
  {
   "cell_type": "code",
   "execution_count": null,
   "metadata": {},
   "outputs": [],
   "source": [
    "age = input('What is your age? ')"
   ]
  },
  {
   "cell_type": "code",
   "execution_count": null,
   "metadata": {},
   "outputs": [],
   "source": [
    "print(age)"
   ]
  },
  {
   "cell_type": "markdown",
   "metadata": {},
   "source": [
    "**input** function displays the message and returns the entered value as output.\n",
    "\n",
    "> **Note**: The return value is always a string. We need to convert it to the type that we need.\n",
    "\n",
    "So the *age* value in the above example is a string."
   ]
  },
  {
   "cell_type": "code",
   "execution_count": null,
   "metadata": {},
   "outputs": [],
   "source": [
    "type(age)"
   ]
  },
  {
   "cell_type": "markdown",
   "metadata": {},
   "source": [
    "Since age is a string we need to convert it to an interger,"
   ]
  },
  {
   "cell_type": "code",
   "execution_count": null,
   "metadata": {},
   "outputs": [],
   "source": [
    "age = int(age)\n",
    "print(age, ',', type(age))"
   ]
  },
  {
   "cell_type": "markdown",
   "metadata": {},
   "source": [
    "### <font color='blue'>while</font> loop"
   ]
  },
  {
   "cell_type": "markdown",
   "metadata": {},
   "source": [
    "Earlier we saw how to use a **for** loop to execute some code for each item in a collection. On the contrary **while** loop executes a block of code as long as a condition matches.\n",
    "\n",
    "Let's say we want to total all numbers until 10."
   ]
  },
  {
   "cell_type": "code",
   "execution_count": 243,
   "metadata": {},
   "outputs": [
    {
     "name": "stdout",
     "output_type": "stream",
     "text": [
      "45\n"
     ]
    }
   ],
   "source": [
    "total = 0\n",
    "number = 0\n",
    "while number < 10:\n",
    "    # block of code\n",
    "    total = total + number\n",
    "    number = number + 1\n",
    "print(total)"
   ]
  },
  {
   "cell_type": "markdown",
   "metadata": {},
   "source": [
    "This example first checks if *number* is less than 10 and then exeucutes the block of code. The control again goes back to the condition, checks if it matches and if so executes the block of code. This loop will continue until the condition doesn't match. "
   ]
  },
  {
   "cell_type": "markdown",
   "metadata": {},
   "source": [
    "### View class"
   ]
  },
  {
   "cell_type": "markdown",
   "metadata": {},
   "source": [
    "Let's create a new class that will enable the interactions with the users. This class will receive inputs from the users and pass them to the previously built classes."
   ]
  },
  {
   "cell_type": "code",
   "execution_count": 240,
   "metadata": {},
   "outputs": [],
   "source": [
    "class BankSoftware:\n",
    "    \n",
    "    bank = None\n",
    "    COUNTER = 1\n",
    "    \n",
    "    def __init__(self):\n",
    "        self.bank = Bank('World Bank')\n",
    "        \n",
    "    def openAccount(self):\n",
    "        name = input('What is your name? ')\n",
    "        ac = self.bank.openAccount(self.COUNTER, name)    # Note: Account number is auto generated using a counter\n",
    "        self.COUNTER += 1                                 # Note: Increment the counter\n",
    "        print('Your account number is', ac.accNumber)\n",
    "    \n",
    "    def getAccountNumber(self):\n",
    "        # We use this function since the same functionality is needed in different places\n",
    "        return int(input('What is the account number? '))   # Note: We are converting the input to an integer\n",
    "    \n",
    "    def deposit(self):\n",
    "        accNumber = self.getAccountNumber()\n",
    "        amount = float(input('How much amount do you want to deposit? ')) # Note: We are converting the amount to float\n",
    "        self.bank.deposit(accNumber, amount)\n",
    "        self._showBalance(accNumber)\n",
    "\n",
    "    def withdraw(self):\n",
    "        accNumber = self.getAccountNumber()\n",
    "        amount = float(input('How much amount do you want to withdraw? '))\n",
    "        self.bank.withdraw(accNumber, amount)\n",
    "        self._showBalance(accNumber)\n",
    "\n",
    "    def _showBalance(self, accNumber):\n",
    "        print('Balance in your account is: ')\n",
    "        self.bank.showBalance(accNumber)\n",
    "\n",
    "    def showBalance(self):\n",
    "        accNumber = self.getAccountNumber()\n",
    "        self._showBalance(accNumber)\n",
    "\n",
    "    def show(self):\n",
    "        print('Welcome to ', self.bank.name)\n",
    "        close = False\n",
    "        while not close:\n",
    "            print('--------------------------------------------------------------------')\n",
    "            print('1. Open new account')\n",
    "            print('2. Show Balance')\n",
    "            print('3. Deposit')\n",
    "            print('4. Withdraw')\n",
    "            print('5. Quit')\n",
    "            option = int(input('Which functionality do you want to execute?'))\n",
    "            print()\n",
    "            if option == 1:\n",
    "                self.openAccount()\n",
    "            elif option == 2:\n",
    "                self.showBalance()\n",
    "            elif option == 3:\n",
    "                self.deposit()\n",
    "            elif option == 4:\n",
    "                self.withdraw()\n",
    "            else:\n",
    "                close = True\n",
    "            print('--------------------------------------------------------------------')"
   ]
  },
  {
   "cell_type": "code",
   "execution_count": 241,
   "metadata": {},
   "outputs": [
    {
     "name": "stdout",
     "output_type": "stream",
     "text": [
      "Welcome to  World Bank\n",
      "--------------------------------------------------------------------\n",
      "1. Open new account\n",
      "2. Show Balance\n",
      "3. Deposit\n",
      "4. Withdraw\n",
      "5. Quit\n",
      "Which functionality do you want to execute?1\n",
      "\n",
      "What is your name? C1\n",
      "Your account number is 1\n",
      "--------------------------------------------------------------------\n",
      "--------------------------------------------------------------------\n",
      "1. Open new account\n",
      "2. Show Balance\n",
      "3. Deposit\n",
      "4. Withdraw\n",
      "5. Quit\n",
      "Which functionality do you want to execute?3\n",
      "\n",
      "What is the account number? 1\n",
      "How much amount do you want to deposit? 1000\n",
      "Balance in your account is: \n",
      "1000.0\n",
      "--------------------------------------------------------------------\n",
      "--------------------------------------------------------------------\n",
      "1. Open new account\n",
      "2. Show Balance\n",
      "3. Deposit\n",
      "4. Withdraw\n",
      "5. Quit\n",
      "Which functionality do you want to execute?4\n",
      "\n",
      "What is the account number? 1\n",
      "How much amount do you want to withdraw? 300\n",
      "Balance in your account is: \n",
      "700.0\n",
      "--------------------------------------------------------------------\n",
      "--------------------------------------------------------------------\n",
      "1. Open new account\n",
      "2. Show Balance\n",
      "3. Deposit\n",
      "4. Withdraw\n",
      "5. Quit\n",
      "Which functionality do you want to execute?2\n",
      "\n",
      "What is the account number? 1\n",
      "Balance in your account is: \n",
      "700.0\n",
      "--------------------------------------------------------------------\n",
      "--------------------------------------------------------------------\n",
      "1. Open new account\n",
      "2. Show Balance\n",
      "3. Deposit\n",
      "4. Withdraw\n",
      "5. Quit\n",
      "Which functionality do you want to execute?5\n",
      "\n",
      "--------------------------------------------------------------------\n"
     ]
    }
   ],
   "source": [
    "BankSoftware().show()"
   ]
  },
  {
   "cell_type": "code",
   "execution_count": null,
   "metadata": {},
   "outputs": [],
   "source": []
  },
  {
   "cell_type": "code",
   "execution_count": null,
   "metadata": {},
   "outputs": [],
   "source": []
  }
 ],
 "metadata": {
  "kernelspec": {
   "display_name": "Python 3",
   "language": "python",
   "name": "python3"
  },
  "language_info": {
   "codemirror_mode": {
    "name": "ipython",
    "version": 3
   },
   "file_extension": ".py",
   "mimetype": "text/x-python",
   "name": "python",
   "nbconvert_exporter": "python",
   "pygments_lexer": "ipython3",
   "version": "3.7.3"
  }
 },
 "nbformat": 4,
 "nbformat_minor": 2
}
