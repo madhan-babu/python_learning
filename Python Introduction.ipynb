{
 "cells": [
  {
   "cell_type": "markdown",
   "metadata": {},
   "source": [
    "# <font color=\"Green\">Python</font>"
   ]
  },
  {
   "cell_type": "markdown",
   "metadata": {},
   "source": [
    "## Topics\n",
    "\n",
    "\n",
    "1. Introduction\n",
    " - History\n",
    " - Open Source\n",
    " - Zen of Python\n",
    " - Write once, run anywhere\n",
    " - Compared to other programming language\n",
    " - Python.org\n",
    " - Version History\n",
    " - Python users and use cases\n",
    " - Python implementations\n",
    " - Python distributions\n",
    " - IDEs\n",
    "2. Compiler vs Interpreter\n",
    "3. How Python program runs?\n",
    "4. First Python module"
   ]
  },
  {
   "cell_type": "markdown",
   "metadata": {},
   "source": [
    "## <font color=\"blue\">Introduction</font>"
   ]
  },
  {
   "cell_type": "markdown",
   "metadata": {},
   "source": [
    "Python is a programming language developed by Guido van Russom in the year 1989. At that time he was working on another programming language called ABC at CWI (Centrum voor Wiskunde en Informatica). During the Christmas of 1989 Guido was looking for a hobby project to keep himself busy and he started writing an interpreter for a new scripting language that would be a descendant of ABC. "
   ]
  },
  {
   "cell_type": "markdown",
   "metadata": {},
   "source": [
    "<img src=\"Images/Guido van Rossum.jpg\"/>"
   ]
  },
  {
   "cell_type": "markdown",
   "metadata": {},
   "source": [
    "This new scripting language was given the name Python.\n",
    "\n",
    "Not this..."
   ]
  },
  {
   "cell_type": "markdown",
   "metadata": {},
   "source": [
    "<img src=\"Images/Python Snake.jpg\"/>"
   ]
  },
  {
   "cell_type": "markdown",
   "metadata": {},
   "source": [
    "But based on this,"
   ]
  },
  {
   "cell_type": "markdown",
   "metadata": {},
   "source": [
    "<img src=\"Images/Monty Python.jpg\"/>"
   ]
  },
  {
   "cell_type": "markdown",
   "metadata": {},
   "source": [
    "## <font color=\"blue\">Open Source</font>"
   ]
  },
  {
   "cell_type": "markdown",
   "metadata": {},
   "source": [
    "Python just like many other programming language is open source. As the name suggests entire python source code is open for everyone to see and also contribute."
   ]
  },
  {
   "cell_type": "markdown",
   "metadata": {},
   "source": [
    "Take a look here, <a>https://github.com/python/cpython</a>"
   ]
  },
  {
   "cell_type": "markdown",
   "metadata": {},
   "source": [
    "<img src=\"Images/Python Git.png\"/>"
   ]
  },
  {
   "cell_type": "markdown",
   "metadata": {},
   "source": [
    "<div class=\"alert alert-block alert-warning\">\n",
    "Notice the number of contributors and also the number of commits to the source code. You can be one of the contributor as well!\n",
    "</alert>"
   ]
  },
  {
   "cell_type": "markdown",
   "metadata": {},
   "source": [
    "## <font color=\"blue\">Zen of Python</font>"
   ]
  },
  {
   "cell_type": "markdown",
   "metadata": {},
   "source": [
    "Time Peters came up with the \"Zen of Python\" which is 20 guiding principles for the language,"
   ]
  },
  {
   "cell_type": "markdown",
   "metadata": {},
   "source": [
    "<div class=\"alert alert-block alert-info\">\n",
    "<b>\n",
    "\n",
    "Beautiful is better than ugly.\n",
    "\n",
    "\n",
    "Explicit is better than implicit.\n",
    "\n",
    "Simple is better than complex.\n",
    "\n",
    "Complex is better than complicated.\n",
    "\n",
    "Flat is better than nested.\n",
    "\n",
    "Sparse is better than dense.\n",
    "\n",
    "Readability counts.\n",
    "\n",
    "Special cases aren't special enough to break the rules.\n",
    "\n",
    "Although practicality beats purity.\n",
    "\n",
    "Errors should never pass silently.\n",
    "\n",
    "Unless explicitly silenced.\n",
    "\n",
    "In the face of ambiguity, refuse the temptation to guess.\n",
    "\n",
    "There should be one-- and preferably only one --obvious way to do it.\n",
    "\n",
    "Although that way may not be obvious at first unless you're Dutch.\n",
    "\n",
    "Now is better than never.\n",
    "\n",
    "Although never is often better than *right* now.\n",
    "\n",
    "If the implementation is hard to explain, it's a bad idea.\n",
    "\n",
    "If the implementation is easy to explain, it may be a good idea.\n",
    "\n",
    "Namespaces are one honking great idea -- let's do more of those!\n",
    "\n",
    "</b>\n",
    "</div>"
   ]
  },
  {
   "cell_type": "markdown",
   "metadata": {},
   "source": [
    "## <font color=\"blue\">Write once, run anywhere</font>"
   ]
  },
  {
   "cell_type": "markdown",
   "metadata": {},
   "source": [
    "Python is platform independent, meaning you can write a program in Python and it will run on any platform like,\n",
    "\n",
    "- Windows\n",
    "- Mac\n",
    "- Unix\n",
    "- Linux\n",
    "\n",
    "Some of you might say I only carry an iPhone, iPad or Android based phone/tablet. Dont worry, there are options like QPython, Pythonista etc."
   ]
  },
  {
   "cell_type": "markdown",
   "metadata": {},
   "source": [
    "## <font color=\"blue\">Comparison with other languages</font>"
   ]
  },
  {
   "cell_type": "markdown",
   "metadata": {},
   "source": [
    "Python has been gaining popularity over the years. Below are some charts to show where Python stands in comparison to other programming languages."
   ]
  },
  {
   "cell_type": "markdown",
   "metadata": {},
   "source": [
    "https://spectrum.ieee.org/at-work/innovation/the-2018-top-programming-languages"
   ]
  },
  {
   "cell_type": "markdown",
   "metadata": {},
   "source": [
    "<img src=\"Images/IEEE Spectrum.jpeg\"/>"
   ]
  },
  {
   "cell_type": "markdown",
   "metadata": {},
   "source": [
    "https://github.blog/2018-11-15-state-of-the-octoverse-top-programming-languages/"
   ]
  },
  {
   "cell_type": "markdown",
   "metadata": {},
   "source": [
    "<img src=\"Images/By Repos Created.png\"/>"
   ]
  },
  {
   "cell_type": "markdown",
   "metadata": {},
   "source": [
    "## <font color=\"blue\">Python Software Foundation</font>"
   ]
  },
  {
   "cell_type": "markdown",
   "metadata": {},
   "source": [
    "Python Software Foundation currently manages Python. The mission of the Python Software Foundation is to promote, protect, and advance the Python programming language, and to support and facilitate the growth of a diverse and international community of Python programmers. "
   ]
  },
  {
   "cell_type": "markdown",
   "metadata": {},
   "source": [
    "https://www.python.org/"
   ]
  },
  {
   "cell_type": "markdown",
   "metadata": {},
   "source": [
    "<div class=\"alert alert-block alert-warning\">\n",
    "Do you have a great python project in mind? Look at this page for Grant related info,\n",
    "\n",
    "https://www.python.org/psf/grants/\n",
    "</div>"
   ]
  },
  {
   "cell_type": "markdown",
   "metadata": {},
   "source": [
    "## <font color=\"blue\">Version History</font>"
   ]
  },
  {
   "cell_type": "markdown",
   "metadata": {},
   "source": [
    "Python has gone thru many revisions over the years. Currently there are two major versions, 2.x and 3.x with 2.x set for retirement by January 2020."
   ]
  },
  {
   "cell_type": "markdown",
   "metadata": {},
   "source": [
    "<img src=\"Images/Python Timeline.jpg\"/>"
   ]
  },
  {
   "cell_type": "markdown",
   "metadata": {},
   "source": [
    "https://www.geeksforgeeks.org/history-of-python/"
   ]
  },
  {
   "cell_type": "markdown",
   "metadata": {},
   "source": [
    "<div class=\"alert alert-block alert-warning\">\n",
    "Given Python 2.x is on retirement path I recommend you start with Python 3.x.\n",
    "\n",
    "https://pythonclock.org/\n",
    "</div>"
   ]
  },
  {
   "cell_type": "markdown",
   "metadata": {},
   "source": [
    "## <font color=\"blue\">Who uses Python?</font>"
   ]
  },
  {
   "cell_type": "markdown",
   "metadata": {},
   "source": [
    "In fact the question should be who doesn't use Python? Almost every company in the market use Python, some in a small way and some in building enterprise applications."
   ]
  },
  {
   "cell_type": "markdown",
   "metadata": {},
   "source": [
    "Some examples include,\n",
    "\n",
    "- Bank of America Merill Lynch\n",
    "- Google\n",
    "- Facebook\n",
    "- Spotify\n",
    "- Uber etc\n",
    "\n",
    "https://learn.onemonth.com/10-famous-websites-built-using-python/\n",
    "\n",
    "\n",
    "https://www.fullstackpython.com/companies-using-python.html"
   ]
  },
  {
   "cell_type": "markdown",
   "metadata": {},
   "source": [
    "## <font color=\"blue\">What is it used for?</font>"
   ]
  },
  {
   "cell_type": "markdown",
   "metadata": {},
   "source": [
    "Python is used for a variety of different purposes like,\n",
    "\n",
    "- simple scripting\n",
    "- web development\n",
    "- numerical analysis\n",
    "- desktop UIs\n",
    "- scientific calculations\n",
    "- machine learning etc"
   ]
  },
  {
   "cell_type": "markdown",
   "metadata": {},
   "source": [
    "https://www.python.org/about/apps/"
   ]
  },
  {
   "cell_type": "markdown",
   "metadata": {},
   "source": [
    "## <font color=\"blue\">Python Implementations</font>"
   ]
  },
  {
   "cell_type": "markdown",
   "metadata": {},
   "source": [
    "Python is a programming language and Python implementation refers to an program or environment that supports executing programs written in Python language. The standard implementation of Python is CPython, written in C. \n",
    "\n",
    "However there are multiple implementations of Python and some examples are,\n",
    "\n",
    "1. Jython - Python in Java for Java platform (https://www.jython.org/)\n",
    "2. IronPython - Python in C# for CLR environment (https://ironpython.net/)\n",
    "3. Brython - a way to run Python in a browser by translating to Javascript (http://brython.info/)\n",
    "4. pyjs - a Python to Javascript compiler (http://pyjs.org/)\n",
    "5. Pypy - Python in Python (https://pypy.org/)"
   ]
  },
  {
   "cell_type": "markdown",
   "metadata": {},
   "source": [
    "## <font color=\"blue\">Python Distributions</font>"
   ]
  },
  {
   "cell_type": "markdown",
   "metadata": {},
   "source": [
    "Python distribution refers to the packaging of different modules and packages. The standard distribution is CPyton distribution available from <a href=\"www.Python.org\">Python.org</a>. Some examples of other distributions are,\n",
    "\n",
    "1. Anaconda (https://www.anaconda.com/distribution/)\n",
    "2. PyPy (https://pypy.org/)\n",
    "3. ActivePython (https://www.activestate.com/products/activepython/)\n",
    "4. Stackless Python (https://stackless.readthedocs.io/en/3.6-slp/stackless-python.html)\n",
    "5. Python(x,y) (https://python-xy.github.io/downloads.html)"
   ]
  },
  {
   "cell_type": "markdown",
   "metadata": {},
   "source": [
    "## <font color=\"blue\">IDEs</font>"
   ]
  },
  {
   "cell_type": "markdown",
   "metadata": {},
   "source": [
    "There are several IDEs (Integrated Development Environment) available in the market for building python applications. Some of the most commonly used are,\n",
    "\n",
    "1. IDLE (https://docs.python.org/3/library/idle.html)\n",
    "2. Spyder (https://www.spyder-ide.org/)\n",
    "3. PyCharm (https://www.jetbrains.com/pycharm/)"
   ]
  },
  {
   "cell_type": "markdown",
   "metadata": {},
   "source": [
    "These are applications that you can use to build Python programs and they include a variety of tools to boost productivity. However for this learning series we will be using Jupyter notebook for all samples and explanations."
   ]
  },
  {
   "cell_type": "markdown",
   "metadata": {},
   "source": [
    "https://jupyter.org/"
   ]
  },
  {
   "cell_type": "markdown",
   "metadata": {},
   "source": [
    "Please take some time to go thru the above site to get youself familiar with Jupyter notebook. Trust me, you will find it really useful."
   ]
  }
 ],
 "metadata": {
  "kernelspec": {
   "display_name": "Python 3",
   "language": "python",
   "name": "python3"
  },
  "language_info": {
   "codemirror_mode": {
    "name": "ipython",
    "version": 3
   },
   "file_extension": ".py",
   "mimetype": "text/x-python",
   "name": "python",
   "nbconvert_exporter": "python",
   "pygments_lexer": "ipython3",
   "version": "3.7.3"
  }
 },
 "nbformat": 4,
 "nbformat_minor": 2
}
