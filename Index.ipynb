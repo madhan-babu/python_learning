{
 "cells": [
  {
   "cell_type": "markdown",
   "metadata": {},
   "source": [
    "# <font color=\"green\">Learn Python</font>"
   ]
  },
  {
   "cell_type": "markdown",
   "metadata": {},
   "source": [
    "Welcome to this tutorial that aims to teach you Python from the basics. There is no assumption made on your leavel of programming knowledge and so it is suitable even for someone who has never done any programming.\n",
    "\n",
    "Please visit each section in order to get maximum benefit,\n",
    "\n",
    "1. <a href=\"Python Introduction.ipynb\">Python Introduction</a>\n",
    "2. <a href=\"First Python Program.ipynb\">First Python Program</a>\n",
    "3. <a href=\"Basics.ipynb\">Some basics before we start...</a>\n",
    "4. <a href=\"Numeric Data Types.ipynb\">Numeric Data Types</a>\n",
    "5. <a href=\"String Data Type.ipynb\">String Data Type</a>\n",
    "6. <a href=\"Control Flow.ipynb\">Control Flow</a>\n",
    "7. <a href=\"Functions.ipynb\">Functions</a>\n",
    "8. <a href=\"Classes.ipynb\">Classes</a>\n",
    "9. <a href=\"Collections - list.ipynb\">Collections - List, Tuple</a>\n",
    "10. <a href=\"Collections - dictionary.ipynb\">Collections - Dictionary</a>\n",
    "11. <a href=\"Functions Revisited.ipynb\">Functions Revisited</a>\n",
    "12. <a href=\"Python Interpreter.ipynb\">Python Interpreter</a>"
   ]
  }
 ],
 "metadata": {
  "kernelspec": {
   "display_name": "Python 3",
   "language": "python",
   "name": "python3"
  },
  "language_info": {
   "codemirror_mode": {
    "name": "ipython",
    "version": 3
   },
   "file_extension": ".py",
   "mimetype": "text/x-python",
   "name": "python",
   "nbconvert_exporter": "python",
   "pygments_lexer": "ipython3",
   "version": "3.7.3"
  }
 },
 "nbformat": 4,
 "nbformat_minor": 2
}
