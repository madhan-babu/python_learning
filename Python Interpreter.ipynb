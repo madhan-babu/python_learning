{
 "cells": [
  {
   "cell_type": "markdown",
   "metadata": {},
   "source": [
    "# <font color=\"Green\">Python Interpreter</font>"
   ]
  },
  {
   "cell_type": "markdown",
   "metadata": {},
   "source": [
    "## <font color=\"blue\">How Python programs are run?</font>"
   ]
  },
  {
   "cell_type": "markdown",
   "metadata": {},
   "source": [
    "In our first example we have written 3 lines of Python code to add two numbers. "
   ]
  },
  {
   "cell_type": "code",
   "execution_count": 1,
   "metadata": {},
   "outputs": [
    {
     "data": {
      "text/plain": [
       "30"
      ]
     },
     "execution_count": 1,
     "metadata": {},
     "output_type": "execute_result"
    }
   ],
   "source": [
    "x = 10\n",
    "y = 20\n",
    "\n",
    "x + y"
   ]
  },
  {
   "cell_type": "markdown",
   "metadata": {},
   "source": [
    "This is not the language that the executing machine can understand. It needs to be translated into a low level or assembly language that can be understood and executed. We could directly write these lines in assembly language but that would turn out to be difficult as you will see shortly. That's the reason why programming languages like Python are called high level language where humans can read and understand quickly."
   ]
  },
  {
   "cell_type": "markdown",
   "metadata": {},
   "source": [
    "Let's take our first example and see how this translation is done. The following are the steps involved,"
   ]
  },
  {
   "cell_type": "markdown",
   "metadata": {},
   "source": [
    "<img src=\"Images/Python Execution.png\"/>"
   ]
  },
  {
   "cell_type": "markdown",
   "metadata": {},
   "source": [
    "### Tokenizing"
   ]
  },
  {
   "cell_type": "markdown",
   "metadata": {},
   "source": [
    "First our program is broken down into pieces called as **Tokens** and adds a category to them to identify what type of token they are. This phase is also called as **Lexical Analysis**."
   ]
  },
  {
   "cell_type": "markdown",
   "metadata": {},
   "source": [
    "<img src=\"Images/Tokens.png\"/>"
   ]
  },
  {
   "cell_type": "markdown",
   "metadata": {},
   "source": [
    "### Parsing"
   ]
  },
  {
   "cell_type": "markdown",
   "metadata": {},
   "source": [
    "Just like English language has a grammar to specify how a sentence should be constructed, each programming language also has a grammar to explain how the programs should be written. \n",
    "\n",
    "Next phase is parsing where the tokens are converted into a parse tree according to the grammar of the language."
   ]
  },
  {
   "cell_type": "markdown",
   "metadata": {},
   "source": [
    "<img src=\"Images/Parser Tree.png\"/>"
   ]
  },
  {
   "cell_type": "markdown",
   "metadata": {},
   "source": [
    "This parse tree is used to analyze the syntax of the program. For example if an assignment statement should be written as *identifier = literal* this this step ensures that the written line matches the grammar. Any deviation from this would result in a syntax error and your program will not run. This phase is also called as **Syntax Analysis**.\n",
    "\n",
    "The next step in this parsing phase is called **Semantic Analysis** where the semantics are analyzed to ensure that the syntax makes sense. For example consider the following line,\n",
    "\n",
    "if = 20\n",
    "\n",
    "This is syntatically correct but *if* is a reserved keyword and cannot be used as a variable. Such errors will be caught in the semnatic analysis step.\n",
    "\n",
    "Finally the parse tree is converted into another structure called **Abstract Syntax Tree (AST)** or just **Syntax Tree** which is a simplified version of the **Parse Tree**. "
   ]
  },
  {
   "cell_type": "markdown",
   "metadata": {},
   "source": [
    "<img src=\"Images/AST.png\"/>"
   ]
  },
  {
   "cell_type": "markdown",
   "metadata": {},
   "source": [
    "Following Python program creates the AST,"
   ]
  },
  {
   "cell_type": "code",
   "execution_count": 2,
   "metadata": {},
   "outputs": [
    {
     "name": "stdout",
     "output_type": "stream",
     "text": [
      "Assign(targets=[Name(id='x', ctx=Store())], value=Num(n=10))\n",
      "Assign(targets=[Name(id='y', ctx=Store())], value=Num(n=20))\n",
      "Expr(value=BinOp(left=Name(id='x', ctx=Load()), op=Add(), right=Name(id='y', ctx=Load())))\n"
     ]
    }
   ],
   "source": [
    "import ast\n",
    "program = \"\"\"\n",
    "x = 10\n",
    "y = 20\n",
    "x + y\n",
    "\"\"\"\n",
    "astRep = ast.parse(program)\n",
    "for node in astRep.body:\n",
    "    print(ast.dump(node))"
   ]
  },
  {
   "cell_type": "markdown",
   "metadata": {},
   "source": [
    "### Compiling"
   ]
  },
  {
   "cell_type": "markdown",
   "metadata": {},
   "source": [
    "During the compiling phase AST is converted into Bytecode. This is a platform independent representation that sits between the high level language and machine language. We can see the byte code generated from the above AST using this code,"
   ]
  },
  {
   "cell_type": "code",
   "execution_count": 3,
   "metadata": {},
   "outputs": [
    {
     "name": "stdout",
     "output_type": "stream",
     "text": [
      "  2           0 LOAD_CONST               0 (10)\n",
      "              2 STORE_NAME               0 (x)\n",
      "\n",
      "  3           4 LOAD_CONST               1 (20)\n",
      "              6 STORE_NAME               1 (y)\n",
      "\n",
      "  4           8 LOAD_NAME                0 (x)\n",
      "             10 LOAD_NAME                1 (y)\n",
      "             12 BINARY_ADD\n",
      "             14 POP_TOP\n",
      "             16 LOAD_CONST               2 (None)\n",
      "             18 RETURN_VALUE\n"
     ]
    }
   ],
   "source": [
    "import dis\n",
    "code = compile(astRep, '<string>', 'exec')\n",
    "dis.dis(code)"
   ]
  },
  {
   "cell_type": "markdown",
   "metadata": {},
   "source": [
    "### Interpreting"
   ]
  },
  {
   "cell_type": "markdown",
   "metadata": {},
   "source": [
    "Once the byte code is generated Python Virtual Machine starts executing the byte code one line at a time. Consider PVM as the runtime engine that is responsible for executing the Python code."
   ]
  }
 ],
 "metadata": {
  "kernelspec": {
   "display_name": "Python 3",
   "language": "python",
   "name": "python3"
  },
  "language_info": {
   "codemirror_mode": {
    "name": "ipython",
    "version": 3
   },
   "file_extension": ".py",
   "mimetype": "text/x-python",
   "name": "python",
   "nbconvert_exporter": "python",
   "pygments_lexer": "ipython3",
   "version": "3.7.3"
  }
 },
 "nbformat": 4,
 "nbformat_minor": 2
}
