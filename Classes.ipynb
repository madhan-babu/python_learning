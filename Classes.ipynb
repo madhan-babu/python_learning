{
 "cells": [
  {
   "cell_type": "markdown",
   "metadata": {},
   "source": [
    "# <font color=\"Green\">Classes</font>"
   ]
  },
  {
   "cell_type": "markdown",
   "metadata": {},
   "source": [
    "A class is a template for state and/or behavior. State is defined using variables and behaviors are defined using functions.\n",
    "\n",
    "Let's start with an example to make things clear. Consider the state and behavior of a bank account,\n",
    "\n",
    "**State**\n",
    "\n",
    "- account number\n",
    "- customer name\n",
    "- balance\n",
    "\n",
    "**Behavior**\n",
    "\n",
    "- deposit\n",
    "- withdraw\n",
    "\n",
    "This defines how all bank accounts would look like and what you can do with those acounts."
   ]
  },
  {
   "cell_type": "code",
   "execution_count": 3,
   "metadata": {},
   "outputs": [],
   "source": [
    "accountNumber = 1001\n",
    "customerName = 'Chota Bheem'\n",
    "balance = 1000"
   ]
  },
  {
   "cell_type": "markdown",
   "metadata": {},
   "source": [
    "In the code above we have defined variables to represent the state of an account. But this is just one account. How do we represent another one?"
   ]
  },
  {
   "cell_type": "code",
   "execution_count": 4,
   "metadata": {},
   "outputs": [],
   "source": [
    "accountNumber1 = 1002\n",
    "customerName1 = 'Caillou'\n",
    "balance1 = 2000"
   ]
  },
  {
   "cell_type": "markdown",
   "metadata": {},
   "source": [
    "And another one."
   ]
  },
  {
   "cell_type": "code",
   "execution_count": 7,
   "metadata": {},
   "outputs": [],
   "source": [
    "accountNUmber2 = 1003\n",
    "customerame2 = 'Mr Bean'\n",
    "balance2 = 0"
   ]
  },
  {
   "cell_type": "markdown",
   "metadata": {},
   "source": [
    "We can keep defining multiple variables like this to represent different accounts. There are few issues with this approach,\n",
    "\n",
    "1. In the last example if you notice correctly you will realize that the variable names are different, **accountN<font color='red'>U</font>mber**, **customer<font color='red'>~~N~~</font>ame**.\n",
    "\n",
    "2. All variables have to be explicitly set even if they use just the default, for example, **balance** starts with 0.\n",
    "\n",
    "\n",
    "It would be nice if we can create a structure around the state, something like a template for every account. This is where Python **Class**es become useful."
   ]
  },
  {
   "cell_type": "markdown",
   "metadata": {},
   "source": [
    "## <font color=\"blue\">Class Definition</font>"
   ]
  },
  {
   "cell_type": "markdown",
   "metadata": {},
   "source": [
    "For our Account example we need to define the class first. "
   ]
  },
  {
   "cell_type": "code",
   "execution_count": 44,
   "metadata": {},
   "outputs": [],
   "source": [
    "class Account:\n",
    "    accountNumber = None\n",
    "    customerName = None\n",
    "    balance = 0\n",
    "\n",
    "# Entire contents of a class should be one tab pushed to right"
   ]
  },
  {
   "cell_type": "markdown",
   "metadata": {},
   "source": [
    "The class definition represents how each account should look like. We have defined 3 fields to hold the account number, customer name and current balance just like in our earlier examples.\n",
    "\n",
    "Now let's start changing values for the attributes as they are currently set to default values."
   ]
  },
  {
   "cell_type": "code",
   "execution_count": 9,
   "metadata": {},
   "outputs": [],
   "source": [
    "Account.accountNumber = 1001\n",
    "Account.customerName = 'Chota Bheem'\n",
    "Account.balance = 1000"
   ]
  },
  {
   "cell_type": "markdown",
   "metadata": {},
   "source": [
    "Ok, we have set attributes to represent one account.\n",
    "\n",
    "But wait, how can we set attributes for a different account?"
   ]
  },
  {
   "cell_type": "markdown",
   "metadata": {},
   "source": [
    "## <font color=\"blue\">Objects</font>"
   ]
  },
  {
   "cell_type": "markdown",
   "metadata": {},
   "source": [
    "This is where we need to understand the difference between a class and an object. A class represents a template for how all objects should look like in terms of state and the default values. To actually use the class we need to create objects.\n",
    "\n",
    "To create an object we need to instantiate the class,"
   ]
  },
  {
   "cell_type": "code",
   "execution_count": 19,
   "metadata": {},
   "outputs": [],
   "source": [
    "acc1 = Account()"
   ]
  },
  {
   "cell_type": "markdown",
   "metadata": {},
   "source": [
    "<div class=\"alert alert-block alert-info\">\n",
    "    Note the paranthesis after the class name. This is the syntax to create an object of a particular class.\n",
    "</div>\n",
    "\n",
    "This creates a new Account object which we can use to associate to a specific customer. Before that let's see what acc1 points to."
   ]
  },
  {
   "cell_type": "code",
   "execution_count": 13,
   "metadata": {},
   "outputs": [
    {
     "name": "stdout",
     "output_type": "stream",
     "text": [
      "<class '__main__.Account'>\n",
      "<__main__.Account object at 0x0000023C25F19A58>\n"
     ]
    }
   ],
   "source": [
    "print(Account)\n",
    "print(acc1)"
   ]
  },
  {
   "cell_type": "markdown",
   "metadata": {},
   "source": [
    "**Account** is the class and **acc1** is an instance or object of Account class.\n",
    "\n",
    "With **acc1** now in place we can set and read the attributes."
   ]
  },
  {
   "cell_type": "code",
   "execution_count": 22,
   "metadata": {},
   "outputs": [],
   "source": [
    "acc1.accountNumber = 1001 # This line says set 1001 to accountNumber attribute/field on acc1 object\n",
    "acc1.customerName = 'Chota Bheem'"
   ]
  },
  {
   "cell_type": "markdown",
   "metadata": {},
   "source": [
    "We didn't set a value to *balance* as we need it to default to 0 as defined in the class."
   ]
  },
  {
   "cell_type": "code",
   "execution_count": 15,
   "metadata": {},
   "outputs": [
    {
     "name": "stdout",
     "output_type": "stream",
     "text": [
      "1001\n",
      "Chota Bheem\n",
      "1000\n"
     ]
    }
   ],
   "source": [
    "print(acc1.accountNumber)\n",
    "print(acc1.customerName)\n",
    "print(acc1.balance)"
   ]
  },
  {
   "cell_type": "markdown",
   "metadata": {},
   "source": [
    "<font color='red' size=5>**Shock!**</font>\n",
    "\n",
    "How is the balance 1000 when the default set in the class is 0?\n",
    "\n",
    "This is because we executed this line in an earlier example,\n",
    "\n",
    "<div class=\"alert alert-block alert-info\">\n",
    "Account.balance = 1000\n",
    "</div>\n",
    "\n",
    "What this code did was to change the default value of the attribute. In order to ensure every object of **Account** to use 0 balance we need to revert the default value."
   ]
  },
  {
   "cell_type": "code",
   "execution_count": 17,
   "metadata": {},
   "outputs": [],
   "source": [
    "Account.balance = 0"
   ]
  },
  {
   "cell_type": "code",
   "execution_count": 18,
   "metadata": {},
   "outputs": [
    {
     "name": "stdout",
     "output_type": "stream",
     "text": [
      "0\n"
     ]
    }
   ],
   "source": [
    "print(acc1.balance)"
   ]
  },
  {
   "cell_type": "markdown",
   "metadata": {},
   "source": [
    "<div class=\"alert alert-block alert-warning\">\n",
    "    <font color='red'><b>Warning</b></font>: Any attribute of an object will use the default value only when a new value is not set, like balance in our example.\n",
    "</div>"
   ]
  },
  {
   "cell_type": "markdown",
   "metadata": {},
   "source": [
    "We can create as many instances of the class as we need. Let's create another account and map to Spiderman."
   ]
  },
  {
   "cell_type": "code",
   "execution_count": 23,
   "metadata": {},
   "outputs": [],
   "source": [
    "acc2 = Account()\n",
    "acc2.accountNumber = 1002\n",
    "acc2.customerName = 'Spiderman'\n",
    "acc2.balance = 2500"
   ]
  },
  {
   "cell_type": "markdown",
   "metadata": {},
   "source": [
    "With this new instance we now have 2 different objects of the same *Account* class. Each instance has its own state which is different to another instance."
   ]
  },
  {
   "cell_type": "code",
   "execution_count": 24,
   "metadata": {},
   "outputs": [
    {
     "name": "stdout",
     "output_type": "stream",
     "text": [
      "Account 1 balance:  0\n",
      "Account 2 balance:  2500\n"
     ]
    }
   ],
   "source": [
    "print('Account 1 balance: ', acc1.balance)\n",
    "print('Account 2 balance: ', acc2.balance)"
   ]
  },
  {
   "cell_type": "markdown",
   "metadata": {},
   "source": [
    "## <font color=\"blue\">Attribute Access</font>"
   ]
  },
  {
   "cell_type": "markdown",
   "metadata": {},
   "source": [
    "There is a very important concept to understand when it comes to attribute access, like *acc1.customerName*. Python adds a special attribute **\\_\\_dict\\_\\_** to each class and its objects. This **\\_\\_dict\\_\\_** holds all the attributes/fields defined as key value pairs (key is the attribute name and value is the attribute value)."
   ]
  },
  {
   "cell_type": "code",
   "execution_count": 43,
   "metadata": {},
   "outputs": [
    {
     "name": "stdout",
     "output_type": "stream",
     "text": [
      "{'__module__': '__main__', 'accountNumber': None, 'customerName': None, 'balance': 0, '__dict__': <attribute '__dict__' of 'Account' objects>, '__weakref__': <attribute '__weakref__' of 'Account' objects>, '__doc__': None}\n"
     ]
    }
   ],
   "source": [
    "print(Account.__dict__)"
   ]
  },
  {
   "cell_type": "markdown",
   "metadata": {},
   "source": [
    "For now just ignore every other attribute except for *accountNumber, customerName* and *balance*. Every attribute you add in your class definition will be added to **\\_\\_dict\\_\\_**.\n",
    "\n",
    "When Python starts to read the class definition it first creates an object to represent the class itself."
   ]
  },
  {
   "cell_type": "markdown",
   "metadata": {},
   "source": [
    "<img src='Images/Account dict empty.png'/>"
   ]
  },
  {
   "cell_type": "markdown",
   "metadata": {},
   "source": [
    "Then when it reads every attribute it creates an entry inside the **\\_\\_dict\\_\\_**."
   ]
  },
  {
   "cell_type": "markdown",
   "metadata": {},
   "source": [
    "<img src='Images/Account dict.png'/>"
   ]
  },
  {
   "cell_type": "markdown",
   "metadata": {},
   "source": [
    "When a new object is created it will also contain a **\\_\\_dict\\_\\_** attribute."
   ]
  },
  {
   "cell_type": "code",
   "execution_count": 42,
   "metadata": {},
   "outputs": [
    {
     "name": "stdout",
     "output_type": "stream",
     "text": [
      "{}\n"
     ]
    }
   ],
   "source": [
    "acc1 = Account()\n",
    "print(acc1.__dict__)"
   ]
  },
  {
   "cell_type": "markdown",
   "metadata": {},
   "source": [
    "Well well well! Why is **\\_\\_dict\\_\\_** empty on this object?\n",
    "\n",
    "The reason is unless an attribute is set on an object (which means you are changing the default value) it is not written to **\\_\\_dict\\_\\_**."
   ]
  },
  {
   "cell_type": "code",
   "execution_count": 40,
   "metadata": {},
   "outputs": [
    {
     "name": "stdout",
     "output_type": "stream",
     "text": [
      "{'accountNumber': 1001, 'customerName': 'Chota Bheem'}\n"
     ]
    }
   ],
   "source": [
    "acc1.accountNumber = 1001\n",
    "acc1.customerName = 'Chota Bheem'\n",
    "print(acc1.__dict__)"
   ]
  },
  {
   "cell_type": "markdown",
   "metadata": {},
   "source": [
    "Now the above example shows that setting *accountNumber* and  *customerName* adds them to **\\_\\_dict\\_\\_** associated with the object but *balance* is still missing."
   ]
  },
  {
   "cell_type": "markdown",
   "metadata": {},
   "source": [
    "<img src='Images/Object dict.png'/>"
   ]
  },
  {
   "cell_type": "markdown",
   "metadata": {},
   "source": [
    "When Python encounters an attribute access like the below,"
   ]
  },
  {
   "cell_type": "code",
   "execution_count": 41,
   "metadata": {},
   "outputs": [
    {
     "name": "stdout",
     "output_type": "stream",
     "text": [
      "Chota Bheem\n"
     ]
    }
   ],
   "source": [
    "print(acc1.customerName)"
   ]
  },
  {
   "cell_type": "markdown",
   "metadata": {},
   "source": [
    "it will first search inside the object's **\\_\\_dict\\_\\_** followed by class's **\\_\\_dict\\_\\_**.\n",
    "\n",
    "Both *accountNumber* and *customerName* will be inside object's **\\_\\_dict\\_\\_**. But *balance* would come from class's **\\_\\_dict\\_\\_**."
   ]
  },
  {
   "cell_type": "markdown",
   "metadata": {},
   "source": [
    "## <font color=\"blue\">Initialization</font>"
   ]
  },
  {
   "cell_type": "markdown",
   "metadata": {},
   "source": [
    "In the examples of creating objects we were initializing each attribute separately using the syntax **object.attribute**. We can simplify this initialization step to a separate function."
   ]
  },
  {
   "cell_type": "code",
   "execution_count": 27,
   "metadata": {},
   "outputs": [],
   "source": [
    "def initialize():\n",
    "    # Implement initialization here\n",
    "    pass"
   ]
  },
  {
   "cell_type": "markdown",
   "metadata": {},
   "source": [
    "This **initialize** method should take arguments for every attribute we want to initialize."
   ]
  },
  {
   "cell_type": "code",
   "execution_count": 28,
   "metadata": {},
   "outputs": [],
   "source": [
    "def initialize(number, name, balance):\n",
    "    # Implement initialization here\n",
    "    pass"
   ]
  },
  {
   "cell_type": "markdown",
   "metadata": {},
   "source": [
    "We also need to pass the object whose attributes need to be initialized. As a convention this should always be the first argument."
   ]
  },
  {
   "cell_type": "code",
   "execution_count": 29,
   "metadata": {},
   "outputs": [],
   "source": [
    "def initialize(acc, number, name, balance):\n",
    "    # Implement initialization here\n",
    "    pass"
   ]
  },
  {
   "cell_type": "markdown",
   "metadata": {},
   "source": [
    "With all the required arguments in place let's now add initialization code."
   ]
  },
  {
   "cell_type": "code",
   "execution_count": 31,
   "metadata": {},
   "outputs": [],
   "source": [
    "def initialize(acc, number, name, balance):\n",
    "    acc.accountNumber = number\n",
    "    acc.customerName = name\n",
    "    acc.balance = balance"
   ]
  },
  {
   "cell_type": "markdown",
   "metadata": {},
   "source": [
    "We can now initialize the objects in a single line."
   ]
  },
  {
   "cell_type": "code",
   "execution_count": 32,
   "metadata": {},
   "outputs": [],
   "source": [
    "acc1 = Account()\n",
    "initialize(acc1, 1001, 'Chota Bheem', 500)\n",
    "\n",
    "acc2 = Account()\n",
    "initialize(acc2, 1002, 'Mr Bean', 3000)"
   ]
  },
  {
   "cell_type": "markdown",
   "metadata": {},
   "source": [
    "## <font color=\"blue\">Constructor</font>"
   ]
  },
  {
   "cell_type": "markdown",
   "metadata": {},
   "source": [
    "So far we have seen how to create and object and then initialize it using a separate function and this has been a 2 step process. Python provides support for combining these 2 steps into a single step. We can add a special function **\\_\\_init\\_\\_** on the class. The definition of this function is nothing but our *initialize* function from the previous secion."
   ]
  },
  {
   "cell_type": "code",
   "execution_count": 40,
   "metadata": {},
   "outputs": [],
   "source": [
    "class Account:\n",
    "    accountNumber = None\n",
    "    customerName = None\n",
    "    balance = 0\n",
    "\n",
    "    def __init__(acc, number, name, balance):\n",
    "        acc.accountNumber = number\n",
    "        acc.customerName = name\n",
    "        acc.balance = balance    "
   ]
  },
  {
   "cell_type": "markdown",
   "metadata": {},
   "source": [
    "With this new *\\_\\_init\\_\\_* in place we can now create an instance and initialize in a single line."
   ]
  },
  {
   "cell_type": "code",
   "execution_count": 41,
   "metadata": {},
   "outputs": [],
   "source": [
    "acc1 = Account(1001, 'Chota Bheem', 500)"
   ]
  },
  {
   "cell_type": "markdown",
   "metadata": {},
   "source": [
    "This single line constructs the object and then calls the *\\_\\_init\\_\\_* method by passing the newly constructed object as the first argument.\n",
    "\n",
    "As we have discussed before, the first argument in our earlier *initialize* method and also the new *\\_\\_init\\_\\_* method will always be passed the corresponding object. Normal convention is to name this argument as **self**."
   ]
  },
  {
   "cell_type": "code",
   "execution_count": 45,
   "metadata": {},
   "outputs": [],
   "source": [
    "class Account:\n",
    "    accountNumber = None\n",
    "    customerName = None\n",
    "    balance = 0\n",
    "\n",
    "    def __init__(self, number, name, balance): # Notice the use of self as the first argument name\n",
    "        self.accountNumber = number\n",
    "        self.customerName = name\n",
    "        self.balance = balance "
   ]
  },
  {
   "cell_type": "markdown",
   "metadata": {},
   "source": [
    "<div class=\"alert alert-block alert-warning\">\n",
    "    <font color='blue'><b>Note</b></font>: It is not mandatory to name the first argument as <b>self</b> and we can leave it as <b>acc</b> or name it as anything. But since this has been the norm it is better to name it as <b>self</b> to improve the readability for others.</div>"
   ]
  },
  {
   "cell_type": "markdown",
   "metadata": {},
   "source": [
    "<div class=\"alert alert-block alert-info\">\n",
    "<font color='blue'><b>Info</b></font>: Some programming languages name the <b>self</b> argument as <b>this</b>.\n",
    "</div>"
   ]
  },
  {
   "cell_type": "markdown",
   "metadata": {},
   "source": [
    "## <font color=\"blue\">\\_\\_str\\_\\_</font>"
   ]
  },
  {
   "cell_type": "markdown",
   "metadata": {},
   "source": [
    "What do we see when we print our objects?"
   ]
  },
  {
   "cell_type": "code",
   "execution_count": 42,
   "metadata": {},
   "outputs": [
    {
     "name": "stdout",
     "output_type": "stream",
     "text": [
      "<__main__.Account object at 0x0000023C25F255C0>\n"
     ]
    }
   ],
   "source": [
    "acc1 = Account(1001, 'Chota Bheem', 500)\n",
    "print(acc1)"
   ]
  },
  {
   "cell_type": "markdown",
   "metadata": {},
   "source": [
    "*\\_\\_main\\_\\_* is the current module, *Account* is the name of the class and *0x[some hexadecimal value]* is the memory address where the object is stored."
   ]
  },
  {
   "cell_type": "code",
   "execution_count": 43,
   "metadata": {},
   "outputs": [
    {
     "name": "stdout",
     "output_type": "stream",
     "text": [
      "<__main__.Account object at 0x0000023C25F25160>\n"
     ]
    }
   ],
   "source": [
    "acc2 = Account(1002, 'Mr Bean', 3000)\n",
    "print(acc2)"
   ]
  },
  {
   "cell_type": "markdown",
   "metadata": {},
   "source": [
    "For *acc2* the only difference is the memory address. How about we add some useful information during *print* in order to differentiate/identify the objects.\n",
    "\n",
    "Python supports another function **\\_\\_str\\_\\_** that we can use to customize what is printed."
   ]
  },
  {
   "cell_type": "code",
   "execution_count": 29,
   "metadata": {},
   "outputs": [],
   "source": [
    "class Account:\n",
    "    accountNumber = None\n",
    "    customerName = None\n",
    "    balance = 0\n",
    "\n",
    "    def __init__(self, number, name, balance):\n",
    "        self.accountNumber = number\n",
    "        self.customerName = name\n",
    "        self.balance = balance \n",
    "        \n",
    "    def __str__(self):\n",
    "        return f'Account: Number= {self.accountNumber}, Name= {self.customerName}, Balance= {self.balance}'"
   ]
  },
  {
   "cell_type": "markdown",
   "metadata": {},
   "source": [
    "We have added all the attributes in the returned string. Let's see what the objects look like when they are printed now."
   ]
  },
  {
   "cell_type": "code",
   "execution_count": 30,
   "metadata": {},
   "outputs": [
    {
     "name": "stdout",
     "output_type": "stream",
     "text": [
      "Account: Number= 1001, Name= Chota Bheem, Balance= 500\n",
      "Account: Number= 1002, Name= Mr Bean, Balance= 3000\n"
     ]
    }
   ],
   "source": [
    "acc1 = Account(1001, 'Chota Bheem', 500)\n",
    "acc2 = Account(1002, 'Mr Bean', 3000)\n",
    "print(acc1)\n",
    "print(acc2)"
   ]
  },
  {
   "cell_type": "markdown",
   "metadata": {},
   "source": [
    "Definitely this is better than looking at the memory address."
   ]
  },
  {
   "cell_type": "markdown",
   "metadata": {},
   "source": [
    "## <font color=\"blue\">Methods</font>"
   ]
  },
  {
   "cell_type": "markdown",
   "metadata": {},
   "source": [
    "There are cases where we only need our class to represent state but in other cases we would want to add some behavior as well. \n",
    "\n",
    "We created an *Account* class to represent a bank account. But it is not so useful if can't operate on the account. Let's go ahead and add the behaviors we discussed initially, deposit and withdraw. Just like the *initialize* function lets add two more functions."
   ]
  },
  {
   "cell_type": "code",
   "execution_count": 51,
   "metadata": {},
   "outputs": [],
   "source": [
    "def deposit(acc, amount):\n",
    "    acc.balance += amount\n",
    "\n",
    "def withdraw(acc, amount):\n",
    "    acc.balance -= amount"
   ]
  },
  {
   "cell_type": "markdown",
   "metadata": {},
   "source": [
    "These 2 functions can be used to operate our account objects."
   ]
  },
  {
   "cell_type": "code",
   "execution_count": 54,
   "metadata": {},
   "outputs": [
    {
     "name": "stdout",
     "output_type": "stream",
     "text": [
      "Before depositing:  Account: Number= 1001, Name= Chota Bheem, Balance= 3000\n",
      "After depositing:  Account: Number= 1001, Name= Chota Bheem, Balance= 4500\n"
     ]
    }
   ],
   "source": [
    "print('Before depositing: ', acc1)\n",
    "deposit(acc1, 1000)\n",
    "deposit(acc1, 500)\n",
    "print('After depositing: ', acc1)"
   ]
  },
  {
   "cell_type": "code",
   "execution_count": 56,
   "metadata": {},
   "outputs": [
    {
     "name": "stdout",
     "output_type": "stream",
     "text": [
      "Before withdrawing:  Account: Number= 1001, Name= Chota Bheem, Balance= 5500\n",
      "After withdrawing:  Account: Number= 1001, Name= Chota Bheem, Balance= 4500\n"
     ]
    }
   ],
   "source": [
    "print('Before withdrawing: ', acc1)\n",
    "withdraw(acc1, 800)\n",
    "withdraw(acc1, 200)\n",
    "print('After withdrawing: ', acc1)"
   ]
  },
  {
   "cell_type": "markdown",
   "metadata": {},
   "source": [
    "We can move these functions inside the class as behaviors so both state and behavior are defined together."
   ]
  },
  {
   "cell_type": "code",
   "execution_count": 57,
   "metadata": {},
   "outputs": [],
   "source": [
    "class Account:\n",
    "    accountNumber = None\n",
    "    customerName = None\n",
    "    balance = 0\n",
    "\n",
    "    def __init__(self, accNo, name, bal):\n",
    "        self.accountNumber = accNo\n",
    "        self.customerName = name\n",
    "        self.balance = bal\n",
    "\n",
    "    def deposit(self, amount):\n",
    "        self.balance += amount\n",
    "\n",
    "    def withdraw(self, amount):\n",
    "        self.balance -= amount"
   ]
  },
  {
   "cell_type": "markdown",
   "metadata": {},
   "source": [
    "Again we used **self** to keep consistent naming convention.\n",
    "\n",
    "How do we call these new functions? In the same as we accessed the data attributes, *object.functionName(arguments)*"
   ]
  },
  {
   "cell_type": "code",
   "execution_count": 3,
   "metadata": {},
   "outputs": [
    {
     "ename": "TypeError",
     "evalue": "deposit() takes 2 positional arguments but 3 were given",
     "output_type": "error",
     "traceback": [
      "\u001b[1;31m---------------------------------------------------------------------------\u001b[0m",
      "\u001b[1;31mTypeError\u001b[0m                                 Traceback (most recent call last)",
      "\u001b[1;32m<ipython-input-3-965e29287936>\u001b[0m in \u001b[0;36m<module>\u001b[1;34m\u001b[0m\n\u001b[0;32m      1\u001b[0m \u001b[0macc1\u001b[0m \u001b[1;33m=\u001b[0m \u001b[0mAccount\u001b[0m\u001b[1;33m(\u001b[0m\u001b[1;36m1001\u001b[0m\u001b[1;33m,\u001b[0m \u001b[1;34m'Chota Bheem'\u001b[0m\u001b[1;33m,\u001b[0m \u001b[1;36m500\u001b[0m\u001b[1;33m)\u001b[0m\u001b[1;33m\u001b[0m\u001b[1;33m\u001b[0m\u001b[0m\n\u001b[1;32m----> 2\u001b[1;33m \u001b[0macc1\u001b[0m\u001b[1;33m.\u001b[0m\u001b[0mdeposit\u001b[0m\u001b[1;33m(\u001b[0m\u001b[0macc1\u001b[0m\u001b[1;33m,\u001b[0m \u001b[1;36m100\u001b[0m\u001b[1;33m)\u001b[0m\u001b[1;33m\u001b[0m\u001b[1;33m\u001b[0m\u001b[0m\n\u001b[0m",
      "\u001b[1;31mTypeError\u001b[0m: deposit() takes 2 positional arguments but 3 were given"
     ]
    }
   ],
   "source": [
    "acc1 = Account(1001, 'Chota Bheem', 500)\n",
    "acc1.deposit(acc1, 100)"
   ]
  },
  {
   "cell_type": "markdown",
   "metadata": {},
   "source": [
    "What happened here? Python is complaining that we are passing more arguments that what the method needs.\n",
    "\n",
    "Remember how the object is implicitly passed to the *\\_\\_init\\_\\_* method. Its the same case with these new functions as well. We dont need to pass the object as part of our function call. "
   ]
  },
  {
   "cell_type": "code",
   "execution_count": 60,
   "metadata": {},
   "outputs": [
    {
     "name": "stdout",
     "output_type": "stream",
     "text": [
      "<__main__.Account object at 0x0000023C25F48B00>\n"
     ]
    }
   ],
   "source": [
    "acc1.deposit(100)\n",
    "print(acc1)"
   ]
  },
  {
   "cell_type": "markdown",
   "metadata": {},
   "source": [
    "In fact we call these as methods instead of functions. Methods are functions that are bound to a specific object."
   ]
  },
  {
   "cell_type": "code",
   "execution_count": 61,
   "metadata": {},
   "outputs": [
    {
     "name": "stdout",
     "output_type": "stream",
     "text": [
      "<bound method Account.deposit of <__main__.Account object at 0x0000023C25F48B00>>\n"
     ]
    }
   ],
   "source": [
    "print(acc1.deposit)"
   ]
  },
  {
   "cell_type": "markdown",
   "metadata": {},
   "source": [
    "As you can see from the output this method is bound only to acc1 object. It will be different for another object of the same class."
   ]
  },
  {
   "cell_type": "code",
   "execution_count": 62,
   "metadata": {},
   "outputs": [
    {
     "name": "stdout",
     "output_type": "stream",
     "text": [
      "<bound method Account.deposit of <__main__.Account object at 0x0000023C25F19D30>>\n"
     ]
    }
   ],
   "source": [
    "acc2 = Account(1002, 'Mr Bean', 3000)\n",
    "print(acc2.deposit)"
   ]
  },
  {
   "cell_type": "markdown",
   "metadata": {},
   "source": [
    "In the class *deposit* and *withdraw* are just normal functions. When we access them on an object then Python will create a method binding the object to the function."
   ]
  },
  {
   "cell_type": "code",
   "execution_count": 63,
   "metadata": {},
   "outputs": [
    {
     "name": "stdout",
     "output_type": "stream",
     "text": [
      "<function Account.deposit at 0x0000023C25FAB730>\n"
     ]
    }
   ],
   "source": [
    "print(Account.deposit)"
   ]
  },
  {
   "cell_type": "markdown",
   "metadata": {},
   "source": [
    "In fact, \n",
    "\n",
    "*object.method(argument)*\n",
    "\n",
    "is same as\n",
    "\n",
    "*class.function(object, arguments)*"
   ]
  },
  {
   "cell_type": "code",
   "execution_count": 64,
   "metadata": {},
   "outputs": [],
   "source": [
    "acc2.deposit(200)\n",
    "Account.deposit(acc2, 200)"
   ]
  },
  {
   "cell_type": "markdown",
   "metadata": {},
   "source": [
    "## <font color=\"blue\">Class Method</font>"
   ]
  },
  {
   "cell_type": "markdown",
   "metadata": {},
   "source": [
    "Sometimes we want to define some functions that need to work with the class rather than objects. For example, let's say we want a function to calculate the total balance available in all accounts and then keep this updated every time a transaction is made.\n",
    "\n",
    "For cases like these Python supports **class method**s. This is same as an instance method but decorated with **classmethod**."
   ]
  },
  {
   "cell_type": "code",
   "execution_count": 15,
   "metadata": {},
   "outputs": [],
   "source": [
    "class Account:\n",
    "    accountNumber = None\n",
    "    customerName = None\n",
    "    balance = 0\n",
    "    totalBalance = 0            # this is a new attribute to hold the total balance of all accounts\n",
    "\n",
    "    def __init__(self, accNo, name, bal):\n",
    "        self.accountNumber = accNo\n",
    "        self.customerName = name\n",
    "        self.balance = bal\n",
    "        Account.updateBalance(bal)    # update the total balance when any instance is created\n",
    "\n",
    "    def deposit(self, amount):\n",
    "        self.balance += amount\n",
    "        Account.updateBalance(amount) # update the total balance when a deposit is made in any account object\n",
    "\n",
    "    def withdraw(self, amount):\n",
    "        self.balance -= amount\n",
    "        Account.updateBalance(-amount) # update the total balance when a withdrawal is made in any account object\n",
    "\n",
    "    # Decorate with classmethod so when calling this function you automatically get the class passed as first argument\n",
    "    \n",
    "    @classmethod\n",
    "    def updateBalance(cls, amount):\n",
    "        cls.totalBalance += amount"
   ]
  },
  {
   "cell_type": "markdown",
   "metadata": {},
   "source": [
    "The above class definition now includes a class method to update the total balance. Note that we have used **cls** instead of **self** since this is the convention for class methods.\n",
    "\n",
    "*updateBalance* is now a method that is bound to the class itself."
   ]
  },
  {
   "cell_type": "code",
   "execution_count": 18,
   "metadata": {},
   "outputs": [
    {
     "name": "stdout",
     "output_type": "stream",
     "text": [
      "<bound method Account.updateBalance of <class '__main__.Account'>>\n"
     ]
    }
   ],
   "source": [
    "print(Account.updateBalance)"
   ]
  },
  {
   "cell_type": "markdown",
   "metadata": {},
   "source": [
    "Any object creation or deposit/withdraw would now affect the total balance."
   ]
  },
  {
   "cell_type": "code",
   "execution_count": 17,
   "metadata": {},
   "outputs": [
    {
     "name": "stdout",
     "output_type": "stream",
     "text": [
      "4100\n",
      "4300\n",
      "4200\n",
      "7200\n",
      "<bound method Account.updateBalance of <class '__main__.Account'>>\n"
     ]
    }
   ],
   "source": [
    "acc1 = Account(1001, 'Chota Bheem', 500)\n",
    "print(Account.totalBalance)\n",
    "acc1.deposit(200)\n",
    "print(Account.totalBalance)\n",
    "acc1.withdraw(100)\n",
    "print(Account.totalBalance)\n",
    "acc2 = Account(1002, 'Mr Bean', 3000)\n",
    "print(Account.totalBalance)\n",
    "print(Account.updateBalance)"
   ]
  },
  {
   "cell_type": "markdown",
   "metadata": {},
   "source": [
    "## <font color=\"blue\">Static Methods</font>"
   ]
  },
  {
   "cell_type": "markdown",
   "metadata": {},
   "source": [
    "We have seen bound methodss which are bound to a specific object and class methods that are bound to the class. If you want to add a function on a class that is not bound to any instance or class then decorate the method using **staticmethod** decorator."
   ]
  },
  {
   "cell_type": "code",
   "execution_count": 23,
   "metadata": {},
   "outputs": [],
   "source": [
    "class Account:\n",
    "    accountNumber = None\n",
    "    customerName = None\n",
    "    balance = 0\n",
    "\n",
    "    def __init__(self, accNo, name, bal):\n",
    "        self.accountNumber = accNo\n",
    "        self.customerName = name\n",
    "        self.balance = bal\n",
    "\n",
    "    def deposit(self, amount):\n",
    "        self.balance += amount\n",
    "\n",
    "    def withdraw(self, amount):\n",
    "        self.balance -= amount\n",
    "\n",
    "    @staticmethod\n",
    "    def calculateInterest(amount, rate):\n",
    "        return amount * (rate / 100) # rate is a percentage"
   ]
  },
  {
   "cell_type": "markdown",
   "metadata": {},
   "source": [
    "We added a new method *calculateInterest* that takes two arguments. The logic inside this function is very generic and not tied to any object. So for cases like these there is no point passing an object. In fact we didn't even declare a self argument on the method.\n",
    "\n",
    "We can call a static method either on the class or object."
   ]
  },
  {
   "cell_type": "code",
   "execution_count": 24,
   "metadata": {},
   "outputs": [
    {
     "name": "stdout",
     "output_type": "stream",
     "text": [
      "20.0\n",
      "60.0\n"
     ]
    }
   ],
   "source": [
    "acc1 = Account(1001, 'Chota Bheem', 500)\n",
    "print(acc1.calculateInterest(1000, 2))\n",
    "print(Account.calculateInterest(2000, 3))"
   ]
  },
  {
   "cell_type": "markdown",
   "metadata": {},
   "source": [
    "*calculateInterest* is not a bound method but just a function."
   ]
  },
  {
   "cell_type": "code",
   "execution_count": 28,
   "metadata": {},
   "outputs": [
    {
     "name": "stdout",
     "output_type": "stream",
     "text": [
      "<function Account.calculateInterest at 0x0000024D4F79FEA0>\n",
      "<function Account.calculateInterest at 0x0000024D4F79FEA0>\n"
     ]
    }
   ],
   "source": [
    "print(Account.calculateInterest)\n",
    "print(acc1.calculateInterest)"
   ]
  },
  {
   "cell_type": "markdown",
   "metadata": {},
   "source": [
    "<div class=\"alert alert-block alert-warning\">\n",
    "    <font color='blue'><b>Note</b></font>: You may not come across many use cases where static methods are needed. There are programming languages where you cannot define a function outside of a class. So you end up adding these functions inside a class and mark them static.\n",
    "</div>"
   ]
  }
 ],
 "metadata": {
  "kernelspec": {
   "display_name": "Python 3",
   "language": "python",
   "name": "python3"
  },
  "language_info": {
   "codemirror_mode": {
    "name": "ipython",
    "version": 3
   },
   "file_extension": ".py",
   "mimetype": "text/x-python",
   "name": "python",
   "nbconvert_exporter": "python",
   "pygments_lexer": "ipython3",
   "version": "3.7.3"
  }
 },
 "nbformat": 4,
 "nbformat_minor": 2
}
